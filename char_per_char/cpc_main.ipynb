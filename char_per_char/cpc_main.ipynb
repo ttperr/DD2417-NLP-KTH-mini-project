{
 "cells": [
  {
   "cell_type": "markdown",
   "id": "202e5b05-663a-4be5-adaf-088482568f94",
   "metadata": {},
   "source": [
    "# Question word prediction\n",
    "\n",
    "> Group 12: Tristan Perrot & Romain Darous\n",
    "\n",
    "Task is to train and evaluate a **char per char Transformer model** model using any available QA-corpus, for instance, the [SQuAD corpus](https://rajpurkar.github.io/SQuAD-explorer/).\n"
   ]
  },
  {
   "cell_type": "markdown",
   "id": "f6ff4b64",
   "metadata": {},
   "source": [
    "METTRE EN CONTEXTE LE DEBUT DE LA QUESTION EN CORRIGEANT LE CODE DEJA FAIT\n",
    "ADAPTER POUR AUGMENTER LE NOMBRE DE TRANSFORMERS EVENTUELLEMENT ET FAIRE PLUSIEURS COUCHES"
   ]
  },
  {
   "cell_type": "markdown",
   "id": "c36f3a0c",
   "metadata": {},
   "source": [
    "# 0. Importing modules"
   ]
  },
  {
   "cell_type": "code",
   "execution_count": 7,
   "id": "37285237",
   "metadata": {},
   "outputs": [
    {
     "name": "stderr",
     "output_type": "stream",
     "text": [
      "c:\\Users\\romai\\AppData\\Local\\Programs\\Python\\Python311\\Lib\\site-packages\\torchvision\\io\\image.py:13: UserWarning: Failed to load image Python extension: '[WinError 127] The specified procedure could not be found'If you don't plan on using image functionality from `torchvision.io`, you can ignore this warning. Otherwise, there might be something wrong with your environment. Did you have `libjpeg` or `libpng` installed before building `torchvision` from source?\n",
      "  warn(\n"
     ]
    }
   ],
   "source": [
    "import json\n",
    "import math\n",
    "import os\n",
    "\n",
    "# Importing\n",
    "import matplotlib.pyplot as plt\n",
    "import requests\n",
    "import torch\n",
    "import torch.nn as nn\n",
    "import torch.nn.functional as F\n",
    "import torch.optim as optim\n",
    "from sklearn.model_selection import train_test_split\n",
    "from torch.utils.data import DataLoader, Dataset\n",
    "from torchvision import datasets, transforms\n",
    "from tqdm.notebook import tqdm, trange\n",
    "import random\n",
    "from datetime import datetime\n",
    "import numpy as np\n",
    "\n",
    "# Importing models\n",
    "import char_dataset\n",
    "import cpc_model\n"
   ]
  },
  {
   "cell_type": "markdown",
   "id": "2c009446",
   "metadata": {},
   "source": [
    "# 1. Data pre-processing"
   ]
  },
  {
   "cell_type": "markdown",
   "id": "50678183",
   "metadata": {},
   "source": [
    "## 1.1. Loading the dataset\n",
    "**Note :** we only want to be able te recover the beginning of a question. For that, it doesn\"t matter whether the question is impossible to answer or not."
   ]
  },
  {
   "cell_type": "code",
   "execution_count": 8,
   "id": "2a59dd1d-d079-4907-95a6-f7a24b8aea24",
   "metadata": {},
   "outputs": [
    {
     "name": "stdout",
     "output_type": "stream",
     "text": [
      "Number of questions: 86821\n",
      "\n",
      "Question: When did Beyonce start becoming popular?\n",
      "Answer: \n",
      "\n",
      "Question: What areas did Beyonce compete in when she was growing up?\n",
      "Answer: \n",
      "\n",
      "Question: When did Beyonce leave Destiny's Child and become a solo singer?\n",
      "Answer: \n",
      "\n",
      "Question: In what city and state did Beyonce  grow up? \n",
      "Answer: \n",
      "\n",
      "Question: In which decade did Beyonce become famous?\n",
      "Answer: \n"
     ]
    }
   ],
   "source": [
    "data_dir = 'data'\n",
    "if data_dir not in os.listdir():\n",
    "    os.mkdir(data_dir)\n",
    "\n",
    "if \"squad_train.json\" not in os.listdir(data_dir):\n",
    "    # Download data at https://rajpurkar.github.io/SQuAD-explorer/dataset/train-v2.0.json\n",
    "    res = requests.get(\n",
    "        \"https://rajpurkar.github.io/SQuAD-explorer/dataset/train-v2.0.json\")\n",
    "    data = json.loads(res.text)\n",
    "\n",
    "    # Save data to file\n",
    "    with open(data_dir + \"/squad_train.json\", \"w\") as f:\n",
    "        json.dump(data, f)\n",
    "\n",
    "with open(data_dir + \"/squad_train.json\", \"r\") as f:\n",
    "    data = json.load(f)\n",
    "\n",
    "# Extract answer text and question text\n",
    "answers = []\n",
    "questions = []\n",
    "for article in data[\"data\"]:\n",
    "    for paragraph in article[\"paragraphs\"]:\n",
    "        for qa in paragraph[\"qas\"]:\n",
    "            \n",
    "            \"\"\"if qa[\"is_impossible\"] :\n",
    "                continue\n",
    "            answers.append(qa[\"answers\"][0][\"text\"])\"\"\"\n",
    "                \n",
    "            if qa[\"is_impossible\"] and len(qa[\"question\"]) > 4:\n",
    "                continue\n",
    "            else :\n",
    "                answers.append(\"\")\n",
    "            questions.append(qa[\"question\"])\n",
    "            \n",
    "\n",
    "print(\"Number of questions:\", len(questions))\n",
    "\n",
    "# Print some examples\n",
    "for i in range(5):\n",
    "    print()\n",
    "    print(\"Question:\", questions[i])\n",
    "    print(\"Answer:\", answers[i])"
   ]
  },
  {
   "cell_type": "code",
   "execution_count": 9,
   "id": "d185c76b",
   "metadata": {},
   "outputs": [
    {
     "name": "stdout",
     "output_type": "stream",
     "text": [
      "In which decade did Beyonce become famous? \n"
     ]
    }
   ],
   "source": [
    "print(questions[i] + ' ' + answers[i])"
   ]
  },
  {
   "cell_type": "markdown",
   "id": "bf1ddcfb",
   "metadata": {},
   "source": [
    "## 1.2. Making a suitable dataset\n",
    "``<BOS>`` token. Indicates that the sentence is starting.\n",
    "\n",
    "We will make the prediction of the sentence in reverse mode, as we want to predict the beginning of a question. We will use unidirectionnal attention as well."
   ]
  },
  {
   "cell_type": "code",
   "execution_count": 10,
   "id": "f2805192",
   "metadata": {},
   "outputs": [],
   "source": [
    "# Concatenating questions and answers\n",
    "dataset = [(questions[i].lower() + ' ' + answers[i].lower())[::-1] for i in range(len(questions))]\n",
    "\n",
    "# Shuffle dataset\n",
    "random.shuffle(dataset)\n",
    "\n",
    "# Splitting into train, validation, and test sets\n",
    "train_dataset, test_dataset = train_test_split(dataset, test_size = int(0.1*len(dataset)), train_size=int(0.9*len(dataset)))\n",
    "train_dataset, val_dataset = train_test_split(train_dataset, train_size=int(0.85*len(train_dataset)), test_size = int(0.15*len(train_dataset)))"
   ]
  },
  {
   "cell_type": "code",
   "execution_count": 11,
   "id": "b1fcf626",
   "metadata": {},
   "outputs": [
    {
     "name": "stdout",
     "output_type": "stream",
     "text": [
      "Size of the dataset : 86821\n",
      "Size of the train, val and test sets : (66417, 11720, 8682)\n",
      "Example of original datapoint : When did Beyonce start becoming popular? \n",
      "Example of formatted datapoint :  ?lavirra naeporue fo emit eht yb enog erew taht snoitazilivic eht fo emos tuoba wonk ew od woh\n"
     ]
    }
   ],
   "source": [
    "print(f\"Size of the dataset : {len(dataset)}\")\n",
    "print(f\"Size of the train, val and test sets : {len(train_dataset), len(val_dataset), len(test_dataset)}\")\n",
    "print(f\"Example of original datapoint : {questions[0] + ' ' + answers[0]}\")\n",
    "print(f\"Example of formatted datapoint : {dataset[0]}\")"
   ]
  },
  {
   "cell_type": "markdown",
   "id": "40f52619",
   "metadata": {},
   "source": [
    "## 1.3. Building a character dataset\n",
    "The dataset will be built in the ``train_charlm`` function as it depends on the desired configuration. The function that allow to build the dataset and their context are provided in the file ``char_dataset.py``."
   ]
  },
  {
   "cell_type": "markdown",
   "id": "cd1c2b1c",
   "metadata": {},
   "source": [
    "# 2. The model"
   ]
  },
  {
   "cell_type": "code",
   "execution_count": 12,
   "id": "f91fb4d6",
   "metadata": {},
   "outputs": [],
   "source": [
    "# Updating models# Delete the modules from the namespace\n",
    "del char_dataset\n",
    "del cpc_model\n",
    "\n",
    "# Unload the modules from memory\n",
    "import sys\n",
    "del sys.modules['char_dataset']\n",
    "del sys.modules['cpc_model']\n",
    "\n",
    "# Importing models\n",
    "import char_dataset\n",
    "import cpc_model"
   ]
  },
  {
   "cell_type": "markdown",
   "id": "853e5b06",
   "metadata": {},
   "source": [
    "## 2.0. Hyperparameters"
   ]
  },
  {
   "cell_type": "code",
   "execution_count": 13,
   "id": "d8317878",
   "metadata": {},
   "outputs": [],
   "source": [
    "# ============= Hyper-parameter class for training ============== #\n",
    "\n",
    "class Config :\n",
    "    def __init__(self, seq_ctxt = True, MAXLEN = 32) : \n",
    "        self.number_of_transformer_encoders = 4\n",
    "        self.number_of_attention_heads = 4\n",
    "        self.hidden_size = 256\n",
    "        self.dropout_prob = 0.1\n",
    "        self.batch_size = 64\n",
    "        self.learning_rate = 0.0003\n",
    "        self.weight_decay = 0.000001\n",
    "        self.no_of_epochs = 0\n",
    "        self.is_causal = True # When True, the attention is causal\n",
    "        self.seq_ctxt = seq_ctxt # When False, forces the context to take the beginning of the answer into account\n",
    "        self.MAXLEN = MAXLEN"
   ]
  },
  {
   "cell_type": "markdown",
   "id": "b9e7de04",
   "metadata": {},
   "source": [
    "## 2.1. Training\n",
    "Defining functions for training and testing models."
   ]
  },
  {
   "cell_type": "code",
   "execution_count": 14,
   "id": "ab7b047d",
   "metadata": {},
   "outputs": [],
   "source": [
    "def train_charlm(config, device) :\n",
    "    start_time = datetime.now()\n",
    "\n",
    "    # ==================== Building datasets ================ #\n",
    "    train_char_set = char_dataset.CharDataset(train_dataset, config.MAXLEN, seq_ctxt=config.seq_ctxt)\n",
    "    val_char_set = char_dataset.CharDataset(val_dataset, config.MAXLEN, seq_ctxt=config.seq_ctxt)\n",
    "\n",
    "    # ======================= Training ======================= #\n",
    "\n",
    "    \n",
    "\n",
    "    training_loader = DataLoader(train_char_set, batch_size=config.batch_size)\n",
    "    validation_loader = DataLoader(val_char_set, batch_size=config.batch_size)\n",
    "\n",
    "    charlm = cpc_model.CharLM( config, len(char_dataset.CharDataset.id_to_char), config.MAXLEN, config.is_causal).to(device)\n",
    "    criterion = nn.CrossEntropyLoss()\n",
    "    charlm_optimizer = optim.Adam( charlm.parameters(), lr=config.learning_rate )\n",
    "\n",
    "\n",
    "    patience = 3\n",
    "    best_val_loss = float('inf')\n",
    "\n",
    "    charlm.train()\n",
    "    print( datetime.now().strftime(\"%X\"), \"Training starts\" )\n",
    "\n",
    "    iteration = 0\n",
    "    for epoch in tqdm(range(config.no_of_epochs)) :\n",
    "        val_loss = 0.0\n",
    "        for input_tensor, label in training_loader :\n",
    "            input_tensor, label = input_tensor.to(device), label.to(device)\n",
    "            charlm_optimizer.zero_grad()\n",
    "            logits = charlm(input_tensor).to(device)\n",
    "            loss = criterion(logits.squeeze(1), label)\n",
    "            loss.backward()\n",
    "            charlm_optimizer.step()\n",
    "        iteration += 1\n",
    "\n",
    "        print( datetime.now().strftime(\"%X\"), \"End of epoch\", epoch+1, \", loss=\", loss.detach().item())\n",
    "        \n",
    "        # Validation phase with Early Stopping\n",
    "        charlm.eval()\n",
    "        \n",
    "        with torch.no_grad():\n",
    "            for input_tensor, label in validation_loader:\n",
    "                input_tensor, label = input_tensor.to(device), label.to(device)\n",
    "                logits = charlm(input_tensor).to(device)\n",
    "                loss = criterion(logits.squeeze(1), label)\n",
    "                val_loss += loss.item()\n",
    "\n",
    "        val_loss /= len(validation_loader)\n",
    "        print(datetime.now().strftime(\"%X\"), \"Validation loss=\", val_loss)\n",
    "\n",
    "        # Check early stopping condition\n",
    "        if val_loss <= best_val_loss:\n",
    "            best_val_loss = val_loss\n",
    "            patience = 3\n",
    "        else:\n",
    "            patience -= 1\n",
    "\n",
    "        if patience == 0:\n",
    "            print(\"Early stopping at epoch\", epoch + 1)\n",
    "            break\n",
    "\n",
    "        charlm.train()\n",
    "    \n",
    "    end_time = datetime.now()\n",
    "\n",
    "    return charlm, iteration + 1, end_time - start_time\n"
   ]
  },
  {
   "cell_type": "code",
   "execution_count": 15,
   "id": "a55bc1ef",
   "metadata": {},
   "outputs": [],
   "source": [
    "def test_charlm(model, config, device) :\n",
    "\n",
    "    # Computing output on the test set\n",
    "    test_char_set = char_dataset.CharDataset(test_dataset, config.MAXLEN, seq_ctxt=config.seq_ctxt)\n",
    "    test_loader = DataLoader(test_char_set, batch_size=config.batch_size)\n",
    "\n",
    "    accuracies = []\n",
    "    model.to(device)\n",
    "    model.eval()    \n",
    "    with torch.no_grad():\n",
    "        for input_tensor, label in test_loader:\n",
    "            input_tensor, label = input_tensor.to(device), label.to(device)\n",
    "            logits = model(input_tensor).to(device)\n",
    "            _, pred_label = logits.topk(1, dim=-1)\n",
    "            pred_label = pred_label.squeeze(-1)  # Squeeze to remove extra dimension\n",
    "            accuracy = (pred_label == label).float().mean().item()  # Compute accuracy for this batch\n",
    "            accuracies.append(accuracy)  # Append batch accuracy to list)\n",
    "\n",
    "    total_acc = np.round(np.mean(np.array(accuracies))*100, 2)\n",
    "    print(f\"Test accuracy : {total_acc} %\")\n",
    "    return total_acc"
   ]
  },
  {
   "cell_type": "markdown",
   "id": "e535d7c7",
   "metadata": {},
   "source": [
    "## 2.2. Grid search on parameters"
   ]
  },
  {
   "cell_type": "code",
   "execution_count": 16,
   "id": "f35d7e83-fa4e-4145-ad8e-adb1e2f180e9",
   "metadata": {},
   "outputs": [
    {
     "name": "stdout",
     "output_type": "stream",
     "text": [
      "Running on cpu\n"
     ]
    }
   ],
   "source": [
    "device = 'cuda' if torch.cuda.is_available() else 'cpu'\n",
    "print( \"Running on\", device )"
   ]
  },
  {
   "cell_type": "code",
   "execution_count": 17,
   "id": "a13ff8ed",
   "metadata": {},
   "outputs": [
    {
     "name": "stdout",
     "output_type": "stream",
     "text": [
      "16:34:14 Training starts\n"
     ]
    },
    {
     "data": {
      "application/vnd.jupyter.widget-view+json": {
       "model_id": "a7000c86a2224dfca245e1ca24f739fe",
       "version_major": 2,
       "version_minor": 0
      },
      "text/plain": [
       "0it [00:00, ?it/s]"
      ]
     },
     "metadata": {},
     "output_type": "display_data"
    },
    {
     "name": "stdout",
     "output_type": "stream",
     "text": [
      "16:34:20 Training starts\n"
     ]
    },
    {
     "data": {
      "application/vnd.jupyter.widget-view+json": {
       "model_id": "cfdb0faa90524f4ca1e458576631fb76",
       "version_major": 2,
       "version_minor": 0
      },
      "text/plain": [
       "0it [00:00, ?it/s]"
      ]
     },
     "metadata": {},
     "output_type": "display_data"
    },
    {
     "name": "stdout",
     "output_type": "stream",
     "text": [
      "16:34:26 Training starts\n"
     ]
    },
    {
     "data": {
      "application/vnd.jupyter.widget-view+json": {
       "model_id": "cf2d298c6cf04ad8bbc5859208a2ec03",
       "version_major": 2,
       "version_minor": 0
      },
      "text/plain": [
       "0it [00:00, ?it/s]"
      ]
     },
     "metadata": {},
     "output_type": "display_data"
    },
    {
     "name": "stdout",
     "output_type": "stream",
     "text": [
      "16:34:32 Training starts\n"
     ]
    },
    {
     "data": {
      "application/vnd.jupyter.widget-view+json": {
       "model_id": "177580e37e874420b77fdeeb6f0aa140",
       "version_major": 2,
       "version_minor": 0
      },
      "text/plain": [
       "0it [00:00, ?it/s]"
      ]
     },
     "metadata": {},
     "output_type": "display_data"
    }
   ],
   "source": [
    "output = './output/'\n",
    "model_names = ['charlm_seq_32_es', 'charlm_seq_64_es', 'charlm_nseq_32_es', 'charlm_nseq_64_es']\n",
    "configs = [Config(seq_ctxt=True, MAXLEN=32), Config(seq_ctxt=True, MAXLEN=64),Config(seq_ctxt=False, MAXLEN=32), Config(seq_ctxt=False, MAXLEN=64)]\n",
    "test_acc = []\n",
    "models = []\n",
    "train_time = []\n",
    "epochs = []\n",
    "\n",
    "for i, config in enumerate(configs) :\n",
    "    # Training the model\n",
    "    model, epoch, delta = train_charlm(config, device)\n",
    "    models.append(model)\n",
    "    train_time.append(delta)\n",
    "    epochs.append(epoch)\n"
   ]
  },
  {
   "cell_type": "code",
   "execution_count": 19,
   "id": "3f464738",
   "metadata": {},
   "outputs": [
    {
     "data": {
      "text/plain": [
       "[CharLM(\n",
       "   (embed): Embedding(185, 256)\n",
       "   (transformers): ModuleList(\n",
       "     (0-3): 4 x EncoderBlock(\n",
       "       (attn): MultiHeadSelfAttention(\n",
       "         (query): Linear(in_features=256, out_features=256, bias=False)\n",
       "         (key): Linear(in_features=256, out_features=256, bias=False)\n",
       "         (value): Linear(in_features=256, out_features=256, bias=False)\n",
       "         (final): Linear(in_features=256, out_features=256, bias=False)\n",
       "       )\n",
       "       (ffn): PositionwiseFFN(\n",
       "         (fc1): Linear(in_features=256, out_features=256, bias=True)\n",
       "         (fc2): Linear(in_features=256, out_features=256, bias=True)\n",
       "         (dropout): Dropout(p=0.1, inplace=False)\n",
       "       )\n",
       "       (dropout): Dropout(p=0.1, inplace=False)\n",
       "       (ln1): LayerNorm((256,), eps=1e-05, elementwise_affine=True)\n",
       "       (ln2): LayerNorm((256,), eps=1e-05, elementwise_affine=True)\n",
       "     )\n",
       "   )\n",
       "   (final): Linear(in_features=8192, out_features=185, bias=True)\n",
       " ),\n",
       " CharLM(\n",
       "   (embed): Embedding(185, 256)\n",
       "   (transformers): ModuleList(\n",
       "     (0-3): 4 x EncoderBlock(\n",
       "       (attn): MultiHeadSelfAttention(\n",
       "         (query): Linear(in_features=256, out_features=256, bias=False)\n",
       "         (key): Linear(in_features=256, out_features=256, bias=False)\n",
       "         (value): Linear(in_features=256, out_features=256, bias=False)\n",
       "         (final): Linear(in_features=256, out_features=256, bias=False)\n",
       "       )\n",
       "       (ffn): PositionwiseFFN(\n",
       "         (fc1): Linear(in_features=256, out_features=256, bias=True)\n",
       "         (fc2): Linear(in_features=256, out_features=256, bias=True)\n",
       "         (dropout): Dropout(p=0.1, inplace=False)\n",
       "       )\n",
       "       (dropout): Dropout(p=0.1, inplace=False)\n",
       "       (ln1): LayerNorm((256,), eps=1e-05, elementwise_affine=True)\n",
       "       (ln2): LayerNorm((256,), eps=1e-05, elementwise_affine=True)\n",
       "     )\n",
       "   )\n",
       "   (final): Linear(in_features=16384, out_features=185, bias=True)\n",
       " ),\n",
       " CharLM(\n",
       "   (embed): Embedding(185, 256)\n",
       "   (transformers): ModuleList(\n",
       "     (0-3): 4 x EncoderBlock(\n",
       "       (attn): MultiHeadSelfAttention(\n",
       "         (query): Linear(in_features=256, out_features=256, bias=False)\n",
       "         (key): Linear(in_features=256, out_features=256, bias=False)\n",
       "         (value): Linear(in_features=256, out_features=256, bias=False)\n",
       "         (final): Linear(in_features=256, out_features=256, bias=False)\n",
       "       )\n",
       "       (ffn): PositionwiseFFN(\n",
       "         (fc1): Linear(in_features=256, out_features=256, bias=True)\n",
       "         (fc2): Linear(in_features=256, out_features=256, bias=True)\n",
       "         (dropout): Dropout(p=0.1, inplace=False)\n",
       "       )\n",
       "       (dropout): Dropout(p=0.1, inplace=False)\n",
       "       (ln1): LayerNorm((256,), eps=1e-05, elementwise_affine=True)\n",
       "       (ln2): LayerNorm((256,), eps=1e-05, elementwise_affine=True)\n",
       "     )\n",
       "   )\n",
       "   (final): Linear(in_features=8192, out_features=185, bias=True)\n",
       " ),\n",
       " CharLM(\n",
       "   (embed): Embedding(185, 256)\n",
       "   (transformers): ModuleList(\n",
       "     (0-3): 4 x EncoderBlock(\n",
       "       (attn): MultiHeadSelfAttention(\n",
       "         (query): Linear(in_features=256, out_features=256, bias=False)\n",
       "         (key): Linear(in_features=256, out_features=256, bias=False)\n",
       "         (value): Linear(in_features=256, out_features=256, bias=False)\n",
       "         (final): Linear(in_features=256, out_features=256, bias=False)\n",
       "       )\n",
       "       (ffn): PositionwiseFFN(\n",
       "         (fc1): Linear(in_features=256, out_features=256, bias=True)\n",
       "         (fc2): Linear(in_features=256, out_features=256, bias=True)\n",
       "         (dropout): Dropout(p=0.1, inplace=False)\n",
       "       )\n",
       "       (dropout): Dropout(p=0.1, inplace=False)\n",
       "       (ln1): LayerNorm((256,), eps=1e-05, elementwise_affine=True)\n",
       "       (ln2): LayerNorm((256,), eps=1e-05, elementwise_affine=True)\n",
       "     )\n",
       "   )\n",
       "   (final): Linear(in_features=16384, out_features=185, bias=True)\n",
       " )]"
      ]
     },
     "execution_count": 19,
     "metadata": {},
     "output_type": "execute_result"
    }
   ],
   "source": [
    "models"
   ]
  },
  {
   "cell_type": "code",
   "execution_count": 20,
   "id": "538e06ef-1d1c-4439-91c7-dfe2664d91ce",
   "metadata": {},
   "outputs": [
    {
     "ename": "KeyboardInterrupt",
     "evalue": "",
     "output_type": "error",
     "traceback": [
      "\u001b[1;31m---------------------------------------------------------------------------\u001b[0m",
      "\u001b[1;31mKeyboardInterrupt\u001b[0m                         Traceback (most recent call last)",
      "Cell \u001b[1;32mIn[20], line 3\u001b[0m\n\u001b[0;32m      1\u001b[0m \u001b[38;5;28;01massert\u001b[39;00m \u001b[38;5;28mlen\u001b[39m(models) \u001b[38;5;241m==\u001b[39m \u001b[38;5;28mlen\u001b[39m(configs)\n\u001b[0;32m      2\u001b[0m \u001b[38;5;28;01mfor\u001b[39;00m i, config \u001b[38;5;129;01min\u001b[39;00m \u001b[38;5;28menumerate\u001b[39m(configs) :\n\u001b[1;32m----> 3\u001b[0m   accuracy \u001b[38;5;241m=\u001b[39m \u001b[43mtest_charlm\u001b[49m\u001b[43m(\u001b[49m\u001b[43mmodels\u001b[49m\u001b[43m[\u001b[49m\u001b[43mi\u001b[49m\u001b[43m]\u001b[49m\u001b[43m,\u001b[49m\u001b[43m \u001b[49m\u001b[43mconfig\u001b[49m\u001b[43m,\u001b[49m\u001b[43m \u001b[49m\u001b[43mdevice\u001b[49m\u001b[43m)\u001b[49m\n\u001b[0;32m      4\u001b[0m   test_acc\u001b[38;5;241m.\u001b[39mappend(accuracy)\n\u001b[0;32m      5\u001b[0m   \u001b[38;5;66;03m# Saving the model\u001b[39;00m\n",
      "Cell \u001b[1;32mIn[15], line 13\u001b[0m, in \u001b[0;36mtest_charlm\u001b[1;34m(model, config, device)\u001b[0m\n\u001b[0;32m     11\u001b[0m \u001b[38;5;28;01mfor\u001b[39;00m input_tensor, label \u001b[38;5;129;01min\u001b[39;00m test_loader:\n\u001b[0;32m     12\u001b[0m     input_tensor, label \u001b[38;5;241m=\u001b[39m input_tensor\u001b[38;5;241m.\u001b[39mto(device), label\u001b[38;5;241m.\u001b[39mto(device)\n\u001b[1;32m---> 13\u001b[0m     logits \u001b[38;5;241m=\u001b[39m \u001b[43mmodel\u001b[49m\u001b[43m(\u001b[49m\u001b[43minput_tensor\u001b[49m\u001b[43m)\u001b[49m\u001b[38;5;241m.\u001b[39mto(device)\n\u001b[0;32m     14\u001b[0m     _, pred_label \u001b[38;5;241m=\u001b[39m logits\u001b[38;5;241m.\u001b[39mtopk(\u001b[38;5;241m1\u001b[39m, dim\u001b[38;5;241m=\u001b[39m\u001b[38;5;241m-\u001b[39m\u001b[38;5;241m1\u001b[39m)\n\u001b[0;32m     15\u001b[0m     pred_label \u001b[38;5;241m=\u001b[39m pred_label\u001b[38;5;241m.\u001b[39msqueeze(\u001b[38;5;241m-\u001b[39m\u001b[38;5;241m1\u001b[39m)  \u001b[38;5;66;03m# Squeeze to remove extra dimension\u001b[39;00m\n",
      "File \u001b[1;32mc:\\Users\\romai\\AppData\\Local\\Programs\\Python\\Python311\\Lib\\site-packages\\torch\\nn\\modules\\module.py:1532\u001b[0m, in \u001b[0;36mModule._wrapped_call_impl\u001b[1;34m(self, *args, **kwargs)\u001b[0m\n\u001b[0;32m   1530\u001b[0m     \u001b[38;5;28;01mreturn\u001b[39;00m \u001b[38;5;28mself\u001b[39m\u001b[38;5;241m.\u001b[39m_compiled_call_impl(\u001b[38;5;241m*\u001b[39margs, \u001b[38;5;241m*\u001b[39m\u001b[38;5;241m*\u001b[39mkwargs)  \u001b[38;5;66;03m# type: ignore[misc]\u001b[39;00m\n\u001b[0;32m   1531\u001b[0m \u001b[38;5;28;01melse\u001b[39;00m:\n\u001b[1;32m-> 1532\u001b[0m     \u001b[38;5;28;01mreturn\u001b[39;00m \u001b[38;5;28;43mself\u001b[39;49m\u001b[38;5;241;43m.\u001b[39;49m\u001b[43m_call_impl\u001b[49m\u001b[43m(\u001b[49m\u001b[38;5;241;43m*\u001b[39;49m\u001b[43margs\u001b[49m\u001b[43m,\u001b[49m\u001b[43m \u001b[49m\u001b[38;5;241;43m*\u001b[39;49m\u001b[38;5;241;43m*\u001b[39;49m\u001b[43mkwargs\u001b[49m\u001b[43m)\u001b[49m\n",
      "File \u001b[1;32mc:\\Users\\romai\\AppData\\Local\\Programs\\Python\\Python311\\Lib\\site-packages\\torch\\nn\\modules\\module.py:1541\u001b[0m, in \u001b[0;36mModule._call_impl\u001b[1;34m(self, *args, **kwargs)\u001b[0m\n\u001b[0;32m   1536\u001b[0m \u001b[38;5;66;03m# If we don't have any hooks, we want to skip the rest of the logic in\u001b[39;00m\n\u001b[0;32m   1537\u001b[0m \u001b[38;5;66;03m# this function, and just call forward.\u001b[39;00m\n\u001b[0;32m   1538\u001b[0m \u001b[38;5;28;01mif\u001b[39;00m \u001b[38;5;129;01mnot\u001b[39;00m (\u001b[38;5;28mself\u001b[39m\u001b[38;5;241m.\u001b[39m_backward_hooks \u001b[38;5;129;01mor\u001b[39;00m \u001b[38;5;28mself\u001b[39m\u001b[38;5;241m.\u001b[39m_backward_pre_hooks \u001b[38;5;129;01mor\u001b[39;00m \u001b[38;5;28mself\u001b[39m\u001b[38;5;241m.\u001b[39m_forward_hooks \u001b[38;5;129;01mor\u001b[39;00m \u001b[38;5;28mself\u001b[39m\u001b[38;5;241m.\u001b[39m_forward_pre_hooks\n\u001b[0;32m   1539\u001b[0m         \u001b[38;5;129;01mor\u001b[39;00m _global_backward_pre_hooks \u001b[38;5;129;01mor\u001b[39;00m _global_backward_hooks\n\u001b[0;32m   1540\u001b[0m         \u001b[38;5;129;01mor\u001b[39;00m _global_forward_hooks \u001b[38;5;129;01mor\u001b[39;00m _global_forward_pre_hooks):\n\u001b[1;32m-> 1541\u001b[0m     \u001b[38;5;28;01mreturn\u001b[39;00m \u001b[43mforward_call\u001b[49m\u001b[43m(\u001b[49m\u001b[38;5;241;43m*\u001b[39;49m\u001b[43margs\u001b[49m\u001b[43m,\u001b[49m\u001b[43m \u001b[49m\u001b[38;5;241;43m*\u001b[39;49m\u001b[38;5;241;43m*\u001b[39;49m\u001b[43mkwargs\u001b[49m\u001b[43m)\u001b[49m\n\u001b[0;32m   1543\u001b[0m \u001b[38;5;28;01mtry\u001b[39;00m:\n\u001b[0;32m   1544\u001b[0m     result \u001b[38;5;241m=\u001b[39m \u001b[38;5;28;01mNone\u001b[39;00m\n",
      "File \u001b[1;32mc:\\Users\\romai\\Desktop\\Drive\\KTH\\B_Semestre_2\\A_Cours\\DD2417_Language_Engineering\\Mini_project\\DD2417-NLP-KTH-mini-project\\char_per_char\\cpc_model.py:153\u001b[0m, in \u001b[0;36mCharLM.forward\u001b[1;34m(self, x)\u001b[0m\n\u001b[0;32m    151\u001b[0m     t \u001b[38;5;241m=\u001b[39m transf(t)\n\u001b[0;32m    152\u001b[0m flattened_transf \u001b[38;5;241m=\u001b[39m t\u001b[38;5;241m.\u001b[39mreshape(number_of_datapoints,\u001b[38;5;241m1\u001b[39m,\u001b[38;5;241m-\u001b[39m\u001b[38;5;241m1\u001b[39m)\n\u001b[1;32m--> 153\u001b[0m result \u001b[38;5;241m=\u001b[39m  \u001b[38;5;28;43mself\u001b[39;49m\u001b[38;5;241;43m.\u001b[39;49m\u001b[43mfinal\u001b[49m\u001b[43m(\u001b[49m\u001b[43mtorch\u001b[49m\u001b[38;5;241;43m.\u001b[39;49m\u001b[43mtanh\u001b[49m\u001b[43m(\u001b[49m\u001b[43mflattened_transf\u001b[49m\u001b[43m)\u001b[49m\u001b[43m)\u001b[49m\n\u001b[0;32m    154\u001b[0m \u001b[38;5;28;01mreturn\u001b[39;00m result\n",
      "File \u001b[1;32mc:\\Users\\romai\\AppData\\Local\\Programs\\Python\\Python311\\Lib\\site-packages\\torch\\nn\\modules\\module.py:1532\u001b[0m, in \u001b[0;36mModule._wrapped_call_impl\u001b[1;34m(self, *args, **kwargs)\u001b[0m\n\u001b[0;32m   1530\u001b[0m     \u001b[38;5;28;01mreturn\u001b[39;00m \u001b[38;5;28mself\u001b[39m\u001b[38;5;241m.\u001b[39m_compiled_call_impl(\u001b[38;5;241m*\u001b[39margs, \u001b[38;5;241m*\u001b[39m\u001b[38;5;241m*\u001b[39mkwargs)  \u001b[38;5;66;03m# type: ignore[misc]\u001b[39;00m\n\u001b[0;32m   1531\u001b[0m \u001b[38;5;28;01melse\u001b[39;00m:\n\u001b[1;32m-> 1532\u001b[0m     \u001b[38;5;28;01mreturn\u001b[39;00m \u001b[38;5;28;43mself\u001b[39;49m\u001b[38;5;241;43m.\u001b[39;49m\u001b[43m_call_impl\u001b[49m\u001b[43m(\u001b[49m\u001b[38;5;241;43m*\u001b[39;49m\u001b[43margs\u001b[49m\u001b[43m,\u001b[49m\u001b[43m \u001b[49m\u001b[38;5;241;43m*\u001b[39;49m\u001b[38;5;241;43m*\u001b[39;49m\u001b[43mkwargs\u001b[49m\u001b[43m)\u001b[49m\n",
      "File \u001b[1;32mc:\\Users\\romai\\AppData\\Local\\Programs\\Python\\Python311\\Lib\\site-packages\\torch\\nn\\modules\\module.py:1541\u001b[0m, in \u001b[0;36mModule._call_impl\u001b[1;34m(self, *args, **kwargs)\u001b[0m\n\u001b[0;32m   1536\u001b[0m \u001b[38;5;66;03m# If we don't have any hooks, we want to skip the rest of the logic in\u001b[39;00m\n\u001b[0;32m   1537\u001b[0m \u001b[38;5;66;03m# this function, and just call forward.\u001b[39;00m\n\u001b[0;32m   1538\u001b[0m \u001b[38;5;28;01mif\u001b[39;00m \u001b[38;5;129;01mnot\u001b[39;00m (\u001b[38;5;28mself\u001b[39m\u001b[38;5;241m.\u001b[39m_backward_hooks \u001b[38;5;129;01mor\u001b[39;00m \u001b[38;5;28mself\u001b[39m\u001b[38;5;241m.\u001b[39m_backward_pre_hooks \u001b[38;5;129;01mor\u001b[39;00m \u001b[38;5;28mself\u001b[39m\u001b[38;5;241m.\u001b[39m_forward_hooks \u001b[38;5;129;01mor\u001b[39;00m \u001b[38;5;28mself\u001b[39m\u001b[38;5;241m.\u001b[39m_forward_pre_hooks\n\u001b[0;32m   1539\u001b[0m         \u001b[38;5;129;01mor\u001b[39;00m _global_backward_pre_hooks \u001b[38;5;129;01mor\u001b[39;00m _global_backward_hooks\n\u001b[0;32m   1540\u001b[0m         \u001b[38;5;129;01mor\u001b[39;00m _global_forward_hooks \u001b[38;5;129;01mor\u001b[39;00m _global_forward_pre_hooks):\n\u001b[1;32m-> 1541\u001b[0m     \u001b[38;5;28;01mreturn\u001b[39;00m \u001b[43mforward_call\u001b[49m\u001b[43m(\u001b[49m\u001b[38;5;241;43m*\u001b[39;49m\u001b[43margs\u001b[49m\u001b[43m,\u001b[49m\u001b[43m \u001b[49m\u001b[38;5;241;43m*\u001b[39;49m\u001b[38;5;241;43m*\u001b[39;49m\u001b[43mkwargs\u001b[49m\u001b[43m)\u001b[49m\n\u001b[0;32m   1543\u001b[0m \u001b[38;5;28;01mtry\u001b[39;00m:\n\u001b[0;32m   1544\u001b[0m     result \u001b[38;5;241m=\u001b[39m \u001b[38;5;28;01mNone\u001b[39;00m\n",
      "File \u001b[1;32mc:\\Users\\romai\\AppData\\Local\\Programs\\Python\\Python311\\Lib\\site-packages\\torch\\nn\\modules\\linear.py:116\u001b[0m, in \u001b[0;36mLinear.forward\u001b[1;34m(self, input)\u001b[0m\n\u001b[0;32m    115\u001b[0m \u001b[38;5;28;01mdef\u001b[39;00m \u001b[38;5;21mforward\u001b[39m(\u001b[38;5;28mself\u001b[39m, \u001b[38;5;28minput\u001b[39m: Tensor) \u001b[38;5;241m-\u001b[39m\u001b[38;5;241m>\u001b[39m Tensor:\n\u001b[1;32m--> 116\u001b[0m     \u001b[38;5;28;01mreturn\u001b[39;00m \u001b[43mF\u001b[49m\u001b[38;5;241;43m.\u001b[39;49m\u001b[43mlinear\u001b[49m\u001b[43m(\u001b[49m\u001b[38;5;28;43minput\u001b[39;49m\u001b[43m,\u001b[49m\u001b[43m \u001b[49m\u001b[38;5;28;43mself\u001b[39;49m\u001b[38;5;241;43m.\u001b[39;49m\u001b[43mweight\u001b[49m\u001b[43m,\u001b[49m\u001b[43m \u001b[49m\u001b[38;5;28;43mself\u001b[39;49m\u001b[38;5;241;43m.\u001b[39;49m\u001b[43mbias\u001b[49m\u001b[43m)\u001b[49m\n",
      "\u001b[1;31mKeyboardInterrupt\u001b[0m: "
     ]
    }
   ],
   "source": [
    "assert len(models) == len(configs)\n",
    "for i, config in enumerate(configs) :\n",
    "  accuracy = test_charlm(models[i], config, device)\n",
    "  test_acc.append(accuracy)\n",
    "  # Saving the model\n",
    "  torch.save(models[i].state_dict(), f\"{output}{model_names[i]}{epoch}.pth\")\n",
    "  print(\"Model saved successfully\")"
   ]
  },
  {
   "cell_type": "markdown",
   "id": "aea2ff53",
   "metadata": {
    "editable": true,
    "slideshow": {
     "slide_type": ""
    },
    "tags": []
   },
   "source": [
    "Building a ``.csv`` file to store the results :"
   ]
  },
  {
   "cell_type": "code",
   "execution_count": null,
   "id": "d7a94f76",
   "metadata": {},
   "outputs": [],
   "source": [
    "import pandas as pd\n",
    "\n",
    "data = {\n",
    "    'Running time' : train_time,\n",
    "    'Last epoch' : epochs,\n",
    "    'Type of context' : ['Sequential' if cfg.seq_ctxt else 'Split' for cfg in configs],\n",
    "    'Context size' : [cfg.MAXLEN for cfg in configs],\n",
    "    'Test accuracy (%)' : test_acc\n",
    "}\n",
    "\n",
    "# Create the DataFrame with row names\n",
    "df = pd.DataFrame(data, index=model_names)\n",
    "df.to_csv(output + 'metrics.csv')"
   ]
  },
  {
   "cell_type": "markdown",
   "id": "3c74b7d9",
   "metadata": {},
   "source": [
    "## 2.2. Loading a model\n",
    "Now that we trained several models, we can load them."
   ]
  },
  {
   "cell_type": "code",
   "execution_count": null,
   "id": "7ff5b22e-0ba7-4242-ab4e-ae203fb89ed3",
   "metadata": {},
   "outputs": [],
   "source": [
    "\"\"\"# Load a model\n",
    "charlm = cpc_model.CharLM( config, len(char_dataset.CharDataset.id_to_char), config.MAXLEN, config.is_causal).to(device)\n",
    "charlm.load_state_dict(torch.load('./output/charlm_seq_model_early_stopping.pth'))\n",
    "charlm.eval()\"\"\"\n",
    "\n",
    "# Getting the best model\n",
    "best_model_idx = 3\n",
    "charlm = models[best_model_idx]\n",
    "config = configs[best_model_idx]\n",
    "#print(\"Best model :\", df.loc[model_names[best_model_idx]])"
   ]
  },
  {
   "cell_type": "markdown",
   "id": "d9d51919",
   "metadata": {},
   "source": [
    "## 2.2. Evaluation on the best model"
   ]
  },
  {
   "cell_type": "markdown",
   "id": "09448cd7",
   "metadata": {},
   "source": [
    "## 2.3. User interaction"
   ]
  },
  {
   "cell_type": "code",
   "execution_count": null,
   "id": "6b64382f-0ae7-493f-b4f5-6a9294c9b500",
   "metadata": {},
   "outputs": [
    {
     "name": "stdout",
     "output_type": "stream",
     "text": [
      ">  are you ? Fine\n"
     ]
    },
    {
     "ename": "RuntimeError",
     "evalue": "CUDA error: device-side assert triggered\nCUDA kernel errors might be asynchronously reported at some other API call, so the stacktrace below might be incorrect.\nFor debugging consider passing CUDA_LAUNCH_BLOCKING=1.\nCompile with `TORCH_USE_CUDA_DSA` to enable device-side assertions.\n",
     "output_type": "error",
     "traceback": [
      "\u001b[0;31m---------------------------------------------------------------------------\u001b[0m",
      "\u001b[0;31mRuntimeError\u001b[0m                              Traceback (most recent call last)",
      "Cell \u001b[0;32mIn[16], line 41\u001b[0m\n\u001b[1;32m     37\u001b[0m ctxt \u001b[38;5;241m=\u001b[39m [char_dataset\u001b[38;5;241m.\u001b[39mCharDataset\u001b[38;5;241m.\u001b[39mchar_to_id[c] \u001b[38;5;28;01mfor\u001b[39;00m c \u001b[38;5;129;01min\u001b[39;00m char_list]\n\u001b[1;32m     40\u001b[0m \u001b[38;5;66;03m# Computing the next character\u001b[39;00m\n\u001b[0;32m---> 41\u001b[0m input_tensor \u001b[38;5;241m=\u001b[39m \u001b[43mtorch\u001b[49m\u001b[38;5;241;43m.\u001b[39;49m\u001b[43mtensor\u001b[49m\u001b[43m(\u001b[49m\u001b[43m \u001b[49m\u001b[43m[\u001b[49m\u001b[38;5;241;43m0\u001b[39;49m\u001b[43m]\u001b[49m\u001b[38;5;241;43m*\u001b[39;49m\u001b[43m(\u001b[49m\u001b[43mconfig\u001b[49m\u001b[38;5;241;43m.\u001b[39;49m\u001b[43mMAXLEN\u001b[49m\u001b[38;5;241;43m-\u001b[39;49m\u001b[38;5;28;43mlen\u001b[39;49m\u001b[43m(\u001b[49m\u001b[43mctxt\u001b[49m\u001b[43m)\u001b[49m\u001b[43m)\u001b[49m\u001b[43m \u001b[49m\u001b[38;5;241;43m+\u001b[39;49m\u001b[43m \u001b[49m\u001b[43mctxt\u001b[49m\u001b[43m)\u001b[49m\u001b[38;5;241;43m.\u001b[39;49m\u001b[43munsqueeze\u001b[49m\u001b[43m(\u001b[49m\u001b[38;5;241;43m0\u001b[39;49m\u001b[43m)\u001b[49m\u001b[38;5;241;43m.\u001b[39;49m\u001b[43mto\u001b[49m\u001b[43m(\u001b[49m\u001b[43mdevice\u001b[49m\u001b[43m)\u001b[49m\n\u001b[1;32m     42\u001b[0m logits \u001b[38;5;241m=\u001b[39m charlm(input_tensor)\u001b[38;5;241m.\u001b[39msqueeze()\u001b[38;5;241m.\u001b[39mto(device)\n\u001b[1;32m     43\u001b[0m _, new_character_tensor \u001b[38;5;241m=\u001b[39m logits\u001b[38;5;241m.\u001b[39mtopk(\u001b[38;5;241m1\u001b[39m)\n",
      "\u001b[0;31mRuntimeError\u001b[0m: CUDA error: device-side assert triggered\nCUDA kernel errors might be asynchronously reported at some other API call, so the stacktrace below might be incorrect.\nFor debugging consider passing CUDA_LAUNCH_BLOCKING=1.\nCompile with `TORCH_USE_CUDA_DSA` to enable device-side assertions.\n"
     ]
    }
   ],
   "source": [
    "# ==================== User interaction ==================== #\n",
    "while True:\n",
    "    text = input(\"> \").strip()\n",
    "    if text == \"\" :\n",
    "        continue\n",
    "    elif text == \"QUIT\" :\n",
    "        break\n",
    "\n",
    "    # Will be used to output question\n",
    "    full_question = list(text.lower())[::-1]\n",
    "\n",
    "    if full_question[-1] != ' ' : \n",
    "        full_question.append(' ')\n",
    "    if '?' not in full_question :\n",
    "        full_question = ['?'] + full_question\n",
    "        \n",
    "    new_character = full_question[-1]\n",
    "\n",
    "    # Recovering the beginning of the question\n",
    "    try :\n",
    "        count = 0\n",
    "        MAX_COUNT = 50\n",
    "        while new_character != char_dataset.CharDataset.BOQ and count < MAX_COUNT :\n",
    "            # Building context\n",
    "            char_list = []\n",
    "            if config.seq_ctxt :\n",
    "                char_list = full_question[-config.MAXLEN:]\n",
    "            else :\n",
    "                tmp = \"\".join(full_question)\n",
    "                words_a, words_q = tmp.split(\"?\")[0], tmp.split(\"?\")[1]\n",
    "                len_q = len(words_q) # counting the <BOS> token\n",
    "                if len_q <= config.MAXLEN//2 or len(words_a) < config.MAXLEN//8 :\n",
    "                    char_list = full_question[-config.MAXLEN:]\n",
    "                else :\n",
    "                    char_list = words_a[config.MAXLEN//2:] + full_question[-config.MAXLEN:]\n",
    "            \n",
    "            ctxt = [char_dataset.CharDataset.char_to_id[c] if c in char_dataset.CharDataset.char_to_id \n",
    "                    else char_dataset.CharDataset.char_to_id[char_dataset.CharDataset.char_to_id[char_dataset.CharDataset.PADDING_SYMBOL]] \n",
    "                    for c in char_list]\n",
    "            \n",
    "            \n",
    "            # Computing the next character\n",
    "            input_tensor = torch.tensor( [0]*(config.MAXLEN-len(ctxt)) + ctxt).unsqueeze(0).to(device)\n",
    "            logits = charlm(input_tensor).squeeze().to(device)\n",
    "            _, new_character_tensor = logits.topk(1)\n",
    "            new_character = char_dataset.CharDataset.id_to_char[new_character_tensor.detach().item()]\n",
    "            \n",
    "            # Uploading the final output\n",
    "            full_question.append(new_character)\n",
    "            count += 1\n",
    "\n",
    "        full_question = \"\".join(full_question[::-1])\n",
    "        print(f\"Recovered question : {full_question}\")\n",
    "    except KeyError :\n",
    "        print(\"ERROR\")\n",
    "        continue"
   ]
  },
  {
   "cell_type": "code",
   "execution_count": null,
   "id": "5f2e80ef-11b5-4658-bae0-59354002e455",
   "metadata": {},
   "outputs": [],
   "source": []
  }
 ],
 "metadata": {
  "kernelspec": {
   "display_name": "Python 3 (ipykernel)",
   "language": "python",
   "name": "python3"
  },
  "language_info": {
   "codemirror_mode": {
    "name": "ipython",
    "version": 3
   },
   "file_extension": ".py",
   "mimetype": "text/x-python",
   "name": "python",
   "nbconvert_exporter": "python",
   "pygments_lexer": "ipython3",
   "version": "3.11.4"
  }
 },
 "nbformat": 4,
 "nbformat_minor": 5
}
