{
 "cells": [
  {
   "cell_type": "markdown",
   "id": "202e5b05-663a-4be5-adaf-088482568f94",
   "metadata": {},
   "source": [
    "# Question word prediction\n",
    "\n",
    "> Group 12: Tristan Perrot & Romain Darous\n",
    "\n",
    "Task is to train and evaluate a **char per char Transformer model** model using any available QA-corpus, for instance, the [SQuAD corpus](https://rajpurkar.github.io/SQuAD-explorer/).\n"
   ]
  },
  {
   "cell_type": "code",
   "execution_count": null,
   "id": "1fe7055e-11d2-4abb-a43a-4f2baf9fd692",
   "metadata": {},
   "outputs": [],
   "source": [
    "METTRE EN CONTEXTE LE DEBUT DE LA QUESTION EN CORRIGEANT LE CODE DEJA FAIT\n",
    "ADAPTER POUR AUGMENTER LE NOMBRE DE TRANSFORMERS EVENTUELLEMENT ET FAIRE PLUSIEURS COUCHES"
   ]
  },
  {
   "cell_type": "markdown",
   "id": "c36f3a0c",
   "metadata": {},
   "source": [
    "# 0. Importing modules"
   ]
  },
  {
   "cell_type": "code",
   "execution_count": 1,
   "id": "37285237",
   "metadata": {},
   "outputs": [
    {
     "name": "stderr",
     "output_type": "stream",
     "text": [
      "/opt/conda/lib/python3.10/site-packages/transformers/utils/hub.py:124: FutureWarning: Using `TRANSFORMERS_CACHE` is deprecated and will be removed in v5 of Transformers. Use `HF_HOME` instead.\n",
      "  warnings.warn(\n"
     ]
    }
   ],
   "source": [
    "import json\n",
    "import math\n",
    "import os\n",
    "\n",
    "# Importing\n",
    "import matplotlib.pyplot as plt\n",
    "import requests\n",
    "import torch\n",
    "import torch.nn as nn\n",
    "import torch.nn.functional as F\n",
    "import torch.optim as optim\n",
    "from sklearn.model_selection import train_test_split\n",
    "from torch.utils.data import DataLoader, Dataset\n",
    "from torchvision import datasets, transforms\n",
    "from tqdm.notebook import tqdm, trange\n",
    "import random\n"
   ]
  },
  {
   "cell_type": "code",
   "execution_count": 2,
   "id": "359b715e",
   "metadata": {},
   "outputs": [
    {
     "name": "stdout",
     "output_type": "stream",
     "text": [
      "NVIDIA H100 80GB HBM3 MIG 1g.10gb\n"
     ]
    },
    {
     "data": {
      "text/plain": [
       "device(type='cuda')"
      ]
     },
     "execution_count": 2,
     "metadata": {},
     "output_type": "execute_result"
    }
   ],
   "source": [
    "for i in range(torch.cuda.device_count()):\n",
    "    print(torch.cuda.get_device_properties(i).name)\n",
    "\n",
    "device = torch.device(\"cuda\" if torch.cuda.is_available(\n",
    ") else \"mps\" if torch.backends.mps.is_available() else \"cpu\")\n",
    "device"
   ]
  },
  {
   "cell_type": "markdown",
   "id": "2c009446",
   "metadata": {},
   "source": [
    "# 1. Data pre-processing"
   ]
  },
  {
   "cell_type": "markdown",
   "id": "50678183",
   "metadata": {},
   "source": [
    "## 1.1. Loading the dataset\n",
    "**Note :** we only want to be able te recover the beginning of a question. For that, it doesn\"t matter whether the question is impossible to answer or not."
   ]
  },
  {
   "cell_type": "code",
   "execution_count": 3,
   "id": "2a59dd1d-d079-4907-95a6-f7a24b8aea24",
   "metadata": {},
   "outputs": [
    {
     "name": "stdout",
     "output_type": "stream",
     "text": [
      "Number of questions: 82288\n",
      "\n",
      "Question: When did Beyonce start becoming popular?\n",
      "Answer: in the late 1990s\n",
      "\n",
      "Question: What areas did Beyonce compete in when she was growing up?\n",
      "Answer: singing and dancing\n",
      "\n",
      "Question: When did Beyonce leave Destiny's Child and become a solo singer?\n",
      "Answer: 2003\n",
      "\n",
      "Question: In what city and state did Beyonce  grow up? \n",
      "Answer: Houston, Texas\n",
      "\n",
      "Question: In which decade did Beyonce become famous?\n",
      "Answer: late 1990s\n"
     ]
    }
   ],
   "source": [
    "data_dir = 'data'\n",
    "if data_dir not in os.listdir():\n",
    "    os.mkdir(data_dir)\n",
    "\n",
    "if \"squad_train.json\" not in os.listdir(data_dir):\n",
    "    # Download data at https://rajpurkar.github.io/SQuAD-explorer/dataset/train-v2.0.json\n",
    "    res = requests.get(\n",
    "        \"https://rajpurkar.github.io/SQuAD-explorer/dataset/train-v2.0.json\")\n",
    "    data = json.loads(res.text)\n",
    "\n",
    "    # Save data to file\n",
    "    with open(data_dir + \"/squad_train.json\", \"w\") as f:\n",
    "        json.dump(data, f)\n",
    "\n",
    "with open(data_dir + \"/squad_train.json\", \"r\") as f:\n",
    "    data = json.load(f)\n",
    "\n",
    "# Extract answer text and question text\n",
    "answers = []\n",
    "questions = []\n",
    "for article in data[\"data\"]:\n",
    "    for paragraph in article[\"paragraphs\"]:\n",
    "        for qa in paragraph[\"qas\"]:\n",
    "            if \"-\" not in qa[\"question\"] and \"/\" not in qa[\"question\"] :\n",
    "                if qa[\"is_impossible\"] :\n",
    "                    continue\n",
    "                questions.append(qa[\"question\"])\n",
    "                answers.append(qa[\"answers\"][0][\"text\"])\n",
    "                    \n",
    "                \"\"\"if qa[\"is_impossible\"] and len(qa[\"question\"]) > 4:\n",
    "                    answers.append(\"\")\n",
    "                else :\n",
    "                    answers.append(qa[\"answers\"][0][\"text\"])\"\"\"\n",
    "            \n",
    "\n",
    "print(\"Number of questions:\", len(questions))\n",
    "\n",
    "# Print some examples\n",
    "for i in range(5):\n",
    "    print()\n",
    "    print(\"Question:\", questions[i])\n",
    "    print(\"Answer:\", answers[i])"
   ]
  },
  {
   "cell_type": "code",
   "execution_count": 4,
   "id": "d185c76b",
   "metadata": {},
   "outputs": [
    {
     "name": "stdout",
     "output_type": "stream",
     "text": [
      "In which decade did Beyonce become famous? late 1990s\n"
     ]
    }
   ],
   "source": [
    "print(questions[i] + ' ' + answers[i])"
   ]
  },
  {
   "cell_type": "code",
   "execution_count": 5,
   "id": "94c8c00f",
   "metadata": {},
   "outputs": [],
   "source": [
    "# Importing models\n",
    "import char_dataset\n",
    "import cpc_model\n",
    "from datetime import datetime"
   ]
  },
  {
   "cell_type": "markdown",
   "id": "bf1ddcfb",
   "metadata": {},
   "source": [
    "## 1.2. Making a suitable dataset\n",
    "``<BOS>`` token. Indicates that the sentence is starting.\n",
    "\n",
    "We will make the prediction of the sentence in reverse mode, as we want to predict the beginning of a question. We will use unidirectionnal attention as well."
   ]
  },
  {
   "cell_type": "code",
   "execution_count": 6,
   "id": "f2805192",
   "metadata": {},
   "outputs": [],
   "source": [
    "# Concatenating questions and answers\n",
    "dataset = [(questions[i].lower() + ' ' + answers[i].lower())[::-1] for i in range(len(questions))]\n",
    "# Splitting into train, validation, and test sets\n",
    "train_dataset, test_dataset = train_test_split(dataset, test_size = int(0.1*len(dataset)), train_size=int(0.9*len(dataset)))\n",
    "train_dataset, val_dataset = train_test_split(train_dataset, train_size=int(0.85*len(train_dataset)), test_size = int(0.15*len(train_dataset)))"
   ]
  },
  {
   "cell_type": "code",
   "execution_count": 7,
   "id": "b1fcf626",
   "metadata": {},
   "outputs": [
    {
     "name": "stdout",
     "output_type": "stream",
     "text": [
      "Size of the dataset : 82288\n",
      "Size of the train, val and test sets : (62950, 11108, 8228)\n",
      "Example of original datapoint : When did Beyonce start becoming popular? in the late 1990s\n",
      "Example of formatted datapoint : s0991 etal eht ni ?ralupop gnimoceb trats ecnoyeb did nehw\n"
     ]
    }
   ],
   "source": [
    "print(f\"Size of the dataset : {len(dataset)}\")\n",
    "print(f\"Size of the train, val and test sets : {len(train_dataset), len(val_dataset), len(test_dataset)}\")\n",
    "print(f\"Example of original datapoint : {questions[0] + ' ' + answers[0]}\")\n",
    "print(f\"Example of formatted datapoint : {dataset[0]}\")"
   ]
  },
  {
   "cell_type": "markdown",
   "id": "40f52619",
   "metadata": {},
   "source": [
    "## 1.3. Building a character dataset"
   ]
  },
  {
   "cell_type": "code",
   "execution_count": 21,
   "id": "3ae36b20",
   "metadata": {},
   "outputs": [],
   "source": [
    "\"\"\"# Computing MAXLEN parameter. It's the max length among all the questions when removing the two first words\n",
    "# Will be used as the max window size for context\n",
    "MAXLEN = len(\" \".join(dataset[0].split(' ')[:-2]))\n",
    "\n",
    "for i in range(1, len(dataset)) :\n",
    "    tmp_len = len(\" \".join(dataset[i].split(' ')[:-2]))\n",
    "    if tmp_len > MAXLEN : \n",
    "        print(dataset[i][::-1])\n",
    "        MAXLEN = tmp_len\n",
    "\n",
    "print(f\"MAXLEN : {MAXLEN}\")\"\"\"\n",
    "MAXLEN = 32"
   ]
  },
  {
   "cell_type": "code",
   "execution_count": 22,
   "id": "f91fb4d6",
   "metadata": {},
   "outputs": [],
   "source": [
    "# Updating models# Delete the modules from the namespace\n",
    "del char_dataset\n",
    "del cpc_model\n",
    "\n",
    "# Unload the modules from memory\n",
    "import sys\n",
    "del sys.modules['char_dataset']\n",
    "del sys.modules['cpc_model']\n",
    "\n",
    "# Importing models\n",
    "import char_dataset\n",
    "import cpc_model"
   ]
  },
  {
   "cell_type": "code",
   "execution_count": 23,
   "id": "1f006917",
   "metadata": {},
   "outputs": [],
   "source": [
    "# Building the datasets\n",
    "train_char_set = char_dataset.CharDataset(train_dataset, MAXLEN)\n",
    "val_char_set = char_dataset.CharDataset(val_dataset, MAXLEN)\n",
    "test_char_set = char_dataset.CharDataset(test_dataset, MAXLEN)"
   ]
  },
  {
   "cell_type": "markdown",
   "id": "cd1c2b1c",
   "metadata": {},
   "source": [
    "# 2. The model"
   ]
  },
  {
   "cell_type": "markdown",
   "id": "58338cf8",
   "metadata": {},
   "source": [
    "## 2.2. Setting of hyperparameters"
   ]
  },
  {
   "cell_type": "code",
   "execution_count": 24,
   "id": "f42e1a35",
   "metadata": {},
   "outputs": [],
   "source": [
    "# ============= Hyper-parameters for training ============== #\n",
    "\n",
    "class Config :\n",
    "    number_of_transformer_encoders = 4\n",
    "    number_of_attention_heads = 4\n",
    "    hidden_size = 256\n",
    "    dropout_prob = 0.1\n",
    "    batch_size = 64\n",
    "    learning_rate = 0.0003\n",
    "    weight_decay = 0.000001\n",
    "    no_of_epochs = 100\n"
   ]
  },
  {
   "cell_type": "markdown",
   "id": "b9e7de04",
   "metadata": {},
   "source": [
    "## 2.1. Training"
   ]
  },
  {
   "cell_type": "code",
   "execution_count": null,
   "id": "ab7b047d",
   "metadata": {},
   "outputs": [
    {
     "name": "stdout",
     "output_type": "stream",
     "text": [
      "Running on cuda\n",
      "07:37:15 Training starts\n"
     ]
    },
    {
     "data": {
      "application/vnd.jupyter.widget-view+json": {
       "model_id": "770701c1e83e4b749bb014ed91d6c474",
       "version_major": 2,
       "version_minor": 0
      },
      "text/plain": [
       "  0%|          | 0/100 [00:00<?, ?it/s]"
      ]
     },
     "metadata": {},
     "output_type": "display_data"
    },
    {
     "name": "stdout",
     "output_type": "stream",
     "text": [
      "07:37:51 End of epoch 1 , loss= 1.132185459136963\n",
      "07:38:26 End of epoch 2 , loss= 1.140005350112915\n",
      "07:39:01 End of epoch 3 , loss= 0.9112315773963928\n",
      "07:39:36 End of epoch 4 , loss= 0.9008212685585022\n",
      "07:40:11 End of epoch 5 , loss= 0.9745006561279297\n",
      "07:40:45 End of epoch 6 , loss= 0.7412184476852417\n"
     ]
    }
   ],
   "source": [
    "\n",
    "# ======================= Training ======================= #\n",
    "\n",
    "device = 'cuda' if torch.cuda.is_available() else 'cpu'\n",
    "print( \"Running on\", device )\n",
    "\n",
    "config = Config()\n",
    "training_loader = DataLoader(train_char_set, batch_size=config.batch_size)\n",
    "\n",
    "charlm = cpc_model.CharLM( config, len(char_dataset.CharDataset.id_to_char), MAXLEN).to(device)\n",
    "criterion = nn.CrossEntropyLoss()\n",
    "charlm_optimizer = optim.Adam( charlm.parameters(), lr=config.learning_rate )\n",
    "\n",
    "charlm.train()\n",
    "print( datetime.now().strftime(\"%X\"), \"Training starts\" )\n",
    "for epoch in tqdm(range(config.no_of_epochs)) :\n",
    "    iteration = 0\n",
    "    for input_tensor, label in training_loader :\n",
    "        input_tensor, label = input_tensor.to(device), label.to(device)\n",
    "        charlm_optimizer.zero_grad()\n",
    "        logits = charlm(input_tensor).to(device)\n",
    "        loss = criterion(logits.squeeze(1), label)\n",
    "        loss.backward()\n",
    "        charlm_optimizer.step()\n",
    "        iteration += 1\n",
    "\n",
    "    print( datetime.now().strftime(\"%X\"), \"End of epoch\", epoch+1, \", loss=\", loss.detach().item())\n",
    "    charlm.eval()\n",
    "    \"\"\"# Generate 50 characters starting from the input text\n",
    "    try :\n",
    "        char_list = list(\"he took out his wand and\"[-MAXLEN:])\n",
    "        for i in range(300) :\n",
    "            input_tensor = torch.tensor( [char_dataset.CharDataset.char_to_id[c] for c in char_list] + [char_dataset.CharDataset.char_to_id[PADDING_SYMBOL]]*(MAXLEN-len(char_list))).unsqueeze(0).to(device)\n",
    "            logits = charlm(input_tensor).squeeze().to(device)\n",
    "            _, new_character_tensor = logits.topk(1)\n",
    "            new_character = char_dataset.CharDataset.id_to_char[new_character_tensor.detach().item()]\n",
    "            print( new_character, end='' )\n",
    "            if len(char_list) == MAXLEN :\n",
    "                char_list.pop(0)\n",
    "            char_list.append( new_character )\n",
    "        print()\n",
    "    except KeyError :\n",
    "        continue\"\"\"\n",
    "    charlm.train()\n"
   ]
  },
  {
   "cell_type": "markdown",
   "id": "09448cd7",
   "metadata": {},
   "source": [
    "## 2.2. User interaction"
   ]
  },
  {
   "cell_type": "code",
   "execution_count": null,
   "id": "218822e8-3f3e-48ee-bed9-d840b294273a",
   "metadata": {},
   "outputs": [],
   "source": [
    "dataset[0][::-1]"
   ]
  },
  {
   "cell_type": "markdown",
   "id": "c9511c57",
   "metadata": {},
   "source": [
    "New context"
   ]
  },
  {
   "cell_type": "code",
   "execution_count": null,
   "id": "1db583da",
   "metadata": {},
   "outputs": [],
   "source": [
    "# ==================== User interaction ==================== #\n",
    "\n",
    "while True:\n",
    "    text = input(\"> \").strip()\n",
    "    if text == \"\" :\n",
    "        continue\n",
    "    elif text == \"QUIT\" :\n",
    "        break\n",
    "\n",
    "    words_a, words_q = text.split(\"?\")\n",
    "    words_a = list(\" \".join(words_a))\n",
    "    words_q = list(\" \".join(words_q))\n",
    "\n",
    "    use_boa = False\n",
    "    boa = [char_dataset.CharDataset.char_to_id[c] for c in words_a[MAXLEN//2:]]\n",
    "\n",
    "    if len(words_q) > MAXLEN//2 : \n",
    "        use_boa = True\n",
    "    else : \n",
    "        use_boa = False\n",
    "        char_list = list(text[-MAXLEN:].lower())\n",
    "\n",
    "\n",
    "    full_question = list(text.lower())[::-1]\n",
    "    \n",
    "    char_list = char_list[::-1]\n",
    "    if char_list[-1] != ' ' : \n",
    "        char_list.append(' ')\n",
    "        full_question.append(' ')\n",
    "    new_character = char_list[-1]\n",
    "\n",
    "    # Recovering the beginning of the question\n",
    "    try :\n",
    "        count = 0\n",
    "        MAX_COUNT = 50\n",
    "        while new_character != char_dataset.CharDataset.BOQ and count < MAX_COUNT :\n",
    "            if use_boa :\n",
    "                ctxt = boa + [char_dataset.CharDataset.char_to_id[c] for c in char_list]\n",
    "            else :\n",
    "                ctxt = [char_dataset.CharDataset.char_to_id[c] for c in char_list]\n",
    "                \n",
    "            input_tensor = torch.tensor([0]*(MAXLEN-len(ctxt)) + ctxt).unsqueeze(0).to(device)\n",
    "            logits = charlm(input_tensor).squeeze().to(device)\n",
    "            _, new_character_tensor = logits.topk(1)\n",
    "            new_character = char_dataset.CharDataset.id_to_char[new_character_tensor.detach().item()]\n",
    "            # Uploading context\n",
    "            char_list = char_list[1:] + [new_character]\n",
    "            full_question.append(new_character)\n",
    "            count += 1\n",
    "        full_question = \"\".join(full_question[::-1])\n",
    "        print(f\"Recovered question : {full_question}\")\n",
    "    except KeyError :\n",
    "        print(\"ERROR\")\n",
    "        continue"
   ]
  },
  {
   "cell_type": "markdown",
   "id": "2c85141b",
   "metadata": {},
   "source": [
    "Original context"
   ]
  },
  {
   "cell_type": "code",
   "execution_count": null,
   "id": "6b64382f-0ae7-493f-b4f5-6a9294c9b500",
   "metadata": {},
   "outputs": [],
   "source": [
    "# ==================== User interaction ==================== #\n",
    "\n",
    "while True:\n",
    "    text = input(\"> \").strip()\n",
    "    if text == \"\" :\n",
    "        continue\n",
    "    elif text == \"QUIT\" :\n",
    "        break\n",
    "    char_list = list(text[-MAXLEN:].lower())\n",
    "\n",
    "    full_question = list(text.lower())[::-1]\n",
    "    \n",
    "    char_list = char_list[::-1]\n",
    "    if char_list[-1] != ' ' : \n",
    "        char_list.append(' ')\n",
    "        full_question.append(' ')\n",
    "    new_character = char_list[-1]\n",
    "\n",
    "    # Recovering the beginning of the question\n",
    "    try :\n",
    "        count = 0\n",
    "        MAX_COUNT = 50\n",
    "        while new_character != char_dataset.CharDataset.BOQ and count < MAX_COUNT :\n",
    "            ctxt = [char_dataset.CharDataset.char_to_id[c] for c in char_list]\n",
    "            input_tensor = torch.tensor([0]*(MAXLEN-len(ctxt)) + ctxt).unsqueeze(0).to(device)\n",
    "            logits = charlm(input_tensor).squeeze().to(device)\n",
    "            _, new_character_tensor = logits.topk(1)\n",
    "            new_character = char_dataset.CharDataset.id_to_char[new_character_tensor.detach().item()]\n",
    "            # Uploading context\n",
    "            char_list = char_list[1:] + [new_character]\n",
    "            full_question.append(new_character)\n",
    "            count += 1\n",
    "        full_question = \"\".join(full_question[::-1])\n",
    "        print(f\"Recovered question : {full_question}\")\n",
    "    except KeyError :\n",
    "        print(\"ERROR\")\n",
    "        continue"
   ]
  }
 ],
 "metadata": {
  "kernelspec": {
   "display_name": "Python 3 (ipykernel)",
   "language": "python",
   "name": "python3"
  },
  "language_info": {
   "codemirror_mode": {
    "name": "ipython",
    "version": 3
   },
   "file_extension": ".py",
   "mimetype": "text/x-python",
   "name": "python",
   "nbconvert_exporter": "python",
   "pygments_lexer": "ipython3",
   "version": "3.10.13"
  }
 },
 "nbformat": 4,
 "nbformat_minor": 5
}
