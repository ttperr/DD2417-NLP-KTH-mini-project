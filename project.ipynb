{
 "cells": [
  {
   "cell_type": "markdown",
   "metadata": {},
   "source": [
    "# Question word prediction\n",
    "\n",
    "> Group 12: Tristan Perrot & Romain Darous\n",
    "\n",
    "Task is to train and evaluate a QWP model using any available QA-corpus, for instance, the [SQuAD corpus](https://rajpurkar.github.io/SQuAD-explorer/).\n"
   ]
  },
  {
   "cell_type": "code",
   "execution_count": 29,
   "metadata": {},
   "outputs": [],
   "source": [
    "import json\n",
    "import math\n",
    "import os\n",
    "\n",
    "import matplotlib.pyplot as plt\n",
    "import nltk\n",
    "import pandas as pd\n",
    "import requests\n",
    "import seaborn as sns\n",
    "import torch\n",
    "import torch.nn as nn\n",
    "import torch.nn.functional as F\n",
    "import torch.optim as optim\n",
    "from sklearn.model_selection import train_test_split\n",
    "from torch.utils.data import DataLoader, Dataset\n",
    "from torchvision import datasets, transforms\n",
    "from tqdm.notebook import tqdm, trange"
   ]
  },
  {
   "cell_type": "code",
   "execution_count": 30,
   "metadata": {},
   "outputs": [
    {
     "name": "stdout",
     "output_type": "stream",
     "text": [
      "NVIDIA H100 80GB HBM3 MIG 1g.10gb\n"
     ]
    },
    {
     "data": {
      "text/plain": [
       "device(type='cuda')"
      ]
     },
     "execution_count": 30,
     "metadata": {},
     "output_type": "execute_result"
    }
   ],
   "source": [
    "for i in range(torch.cuda.device_count()):\n",
    "    print(torch.cuda.get_device_properties(i).name)\n",
    "\n",
    "device = torch.device(\"cuda\" if torch.cuda.is_available(\n",
    ") else \"mps\" if torch.backends.mps.is_available() else \"cpu\")\n",
    "device"
   ]
  },
  {
   "cell_type": "markdown",
   "metadata": {},
   "source": [
    "## Data\n"
   ]
  },
  {
   "cell_type": "code",
   "execution_count": 31,
   "metadata": {},
   "outputs": [],
   "source": [
    "data_dir = 'data'"
   ]
  },
  {
   "cell_type": "code",
   "execution_count": 32,
   "metadata": {},
   "outputs": [
    {
     "name": "stdout",
     "output_type": "stream",
     "text": [
      "Number of questions: 86821\n",
      "\n",
      "Question: When did Beyonce start becoming popular?\n",
      "Answer: in the late 1990s\n",
      "\n",
      "Question: What areas did Beyonce compete in when she was growing up?\n",
      "Answer: singing and dancing\n",
      "\n",
      "Question: When did Beyonce leave Destiny's Child and become a solo singer?\n",
      "Answer: 2003\n",
      "\n",
      "Question: In what city and state did Beyonce  grow up? \n",
      "Answer: Houston, Texas\n",
      "\n",
      "Question: In which decade did Beyonce become famous?\n",
      "Answer: late 1990s\n"
     ]
    }
   ],
   "source": [
    "if data_dir not in os.listdir():\n",
    "    os.mkdir(data_dir)\n",
    "\n",
    "if \"squad_train.json\" not in os.listdir(data_dir):\n",
    "    # Download data at https://rajpurkar.github.io/SQuAD-explorer/dataset/train-v2.0.json\n",
    "    res = requests.get(\n",
    "        \"https://rajpurkar.github.io/SQuAD-explorer/dataset/train-v2.0.json\")\n",
    "    data = json.loads(res.text)\n",
    "\n",
    "    # Save data to file\n",
    "    with open(data_dir + \"/squad_train.json\", \"w\") as f:\n",
    "        json.dump(data, f)\n",
    "\n",
    "with open(data_dir + \"/squad_train.json\", \"r\") as f:\n",
    "    data = json.load(f)\n",
    "\n",
    "# Extract answer text and question text\n",
    "answers = []\n",
    "questions = []\n",
    "for article in data[\"data\"]:\n",
    "    for paragraph in article[\"paragraphs\"]:\n",
    "        for qa in paragraph[\"qas\"]:\n",
    "            if qa[\"is_impossible\"]:\n",
    "                continue\n",
    "            answers.append(qa[\"answers\"][0][\"text\"])\n",
    "            questions.append(qa[\"question\"])\n",
    "\n",
    "print(\"Number of questions:\", len(questions))\n",
    "\n",
    "# Print some examples\n",
    "for i in range(5):\n",
    "    print()\n",
    "    print(\"Question:\", questions[i])\n",
    "    print(\"Answer:\", answers[i])"
   ]
  },
  {
   "cell_type": "code",
   "execution_count": 33,
   "metadata": {},
   "outputs": [
    {
     "name": "stdout",
     "output_type": "stream",
     "text": [
      "\n",
      "Question: ['When', 'did', 'Beyonce', 'start', 'becoming', 'popular', '?']\n",
      "Answer: ['in', 'the', 'late', '1990s']\n",
      "\n",
      "Question: ['What', 'areas', 'did', 'Beyonce', 'compete', 'in', 'when', 'she', 'was', 'growing', 'up', '?']\n",
      "Answer: ['singing', 'and', 'dancing']\n",
      "\n",
      "Question: ['When', 'did', 'Beyonce', 'leave', 'Destiny', \"'s\", 'Child', 'and', 'become', 'a', 'solo', 'singer', '?']\n",
      "Answer: ['2003']\n",
      "\n",
      "Question: ['In', 'what', 'city', 'and', 'state', 'did', 'Beyonce', 'grow', 'up', '?']\n",
      "Answer: ['Houston', ',', 'Texas']\n",
      "\n",
      "Question: ['In', 'which', 'decade', 'did', 'Beyonce', 'become', 'famous', '?']\n",
      "Answer: ['late', '1990s']\n"
     ]
    }
   ],
   "source": [
    "# Tokenize questions\n",
    "tokenized_questions = [nltk.word_tokenize(q) for q in questions]\n",
    "\n",
    "# Tokenize answers\n",
    "tokenized_answers = [nltk.word_tokenize(a) for a in answers]\n",
    "\n",
    "for i in range(5):\n",
    "    print()\n",
    "    print(\"Question:\", tokenized_questions[i])\n",
    "    print(\"Answer:\", tokenized_answers[i])"
   ]
  },
  {
   "cell_type": "code",
   "execution_count": 34,
   "metadata": {},
   "outputs": [
    {
     "name": "stdout",
     "output_type": "stream",
     "text": [
      "\n",
      "Merged: ['When', 'did', 'Beyonce', 'start', 'becoming', 'popular', '?', 'in', 'the', 'late', '1990s']\n",
      "\n",
      "Merged: ['What', 'areas', 'did', 'Beyonce', 'compete', 'in', 'when', 'she', 'was', 'growing', 'up', '?', 'singing', 'and', 'dancing']\n",
      "\n",
      "Merged: ['When', 'did', 'Beyonce', 'leave', 'Destiny', \"'s\", 'Child', 'and', 'become', 'a', 'solo', 'singer', '?', '2003']\n",
      "\n",
      "Merged: ['In', 'what', 'city', 'and', 'state', 'did', 'Beyonce', 'grow', 'up', '?', 'Houston', ',', 'Texas']\n",
      "\n",
      "Merged: ['In', 'which', 'decade', 'did', 'Beyonce', 'become', 'famous', '?', 'late', '1990s']\n"
     ]
    }
   ],
   "source": [
    "# Merge questions and answers\n",
    "merged = [q + a for q, a in zip(tokenized_questions, tokenized_answers)]\n",
    "\n",
    "for i in range(5):\n",
    "    print()\n",
    "    print(\"Merged:\", merged[i])"
   ]
  },
  {
   "cell_type": "code",
   "execution_count": 35,
   "metadata": {},
   "outputs": [],
   "source": [
    "# Create vocabulary\n",
    "vocab = set()\n",
    "for m in merged:\n",
    "    vocab.update(m)\n",
    "\n",
    "vocab = list(vocab)\n",
    "\n",
    "# Add \"<qw>\" to vocabulary\n",
    "vocab.append(\"<qw>\")\n",
    "vocab.append(\"<pad>\")\n",
    "vocab.append(\"<eos>\")\n",
    "\n",
    "words_to_pred = [\n",
    "    'What',\n",
    "    'When',\n",
    "    'Where',\n",
    "    'Who',\n",
    "    'Whom',\n",
    "    'Whose',\n",
    "    'Which',\n",
    "    'How',\n",
    "    'Whether',\n",
    "    'Why',\n",
    "    'In what',\n",
    "    'In which',\n",
    "    'How much',\n",
    "    'How many',\n",
    "]\n",
    "\n",
    "# Add to vocabulary\n",
    "vocab.extend(words_to_pred)\n",
    "\n",
    "# Create word to index and index to word mappings\n",
    "word_to_idx = {word: i for i, word in enumerate(vocab)}\n",
    "idx_to_word = {i: word for i, word in enumerate(vocab)}"
   ]
  },
  {
   "cell_type": "code",
   "execution_count": 36,
   "metadata": {},
   "outputs": [
    {
     "name": "stdout",
     "output_type": "stream",
     "text": [
      "\n",
      "Merged: ['When', 'did', 'Beyonce', 'start', 'becoming', 'popular', '?', 'in', 'the', 'late', '1990s']\n",
      "Hidden: ['<qw>', 'did', 'Beyonce', 'start', 'becoming', 'popular', '?', 'in', 'the', 'late', '1990s']\n",
      "\n",
      "Merged: ['What', 'areas', 'did', 'Beyonce', 'compete', 'in', 'when', 'she', 'was', 'growing', 'up', '?', 'singing', 'and', 'dancing']\n",
      "Hidden: ['<qw>', 'areas', 'did', 'Beyonce', 'compete', 'in', 'when', 'she', 'was', 'growing', 'up', '?', 'singing', 'and', 'dancing']\n",
      "\n",
      "Merged: ['When', 'did', 'Beyonce', 'leave', 'Destiny', \"'s\", 'Child', 'and', 'become', 'a', 'solo', 'singer', '?', '2003']\n",
      "Hidden: ['<qw>', 'did', 'Beyonce', 'leave', 'Destiny', \"'s\", 'Child', 'and', 'become', 'a', 'solo', 'singer', '?', '2003']\n",
      "\n",
      "Merged: ['In', 'what', 'city', 'and', 'state', 'did', 'Beyonce', 'grow', 'up', '?', 'Houston', ',', 'Texas']\n",
      "Hidden: ['<qw>', 'what', 'city', 'and', 'state', 'did', 'Beyonce', 'grow', 'up', '?', 'Houston', ',', 'Texas']\n",
      "\n",
      "Merged: ['In', 'which', 'decade', 'did', 'Beyonce', 'become', 'famous', '?', 'late', '1990s']\n",
      "Hidden: ['<qw>', 'which', 'decade', 'did', 'Beyonce', 'become', 'famous', '?', 'late', '1990s']\n",
      "\n",
      "{'Magna', 'Based', 'Residence', 'Slavic', 'Typhoons', 'Poland', 'Anti-infective', 'Which', 'Prominent', 'Vessels', 'Resisting', 'Coins', 'Guatama', 'Predators', 'Op', 'Project', 'Joining', 'Height', 'Booting', 'Attending', 'Obesity', 'Democratic', 'Tourists', 'Kalbeliya', 'Petrochemical', 'Parkscore', 'Noyce', 'Switching', 'Legal', 'Sound', 'Daniel', 'Musical', 'Indigenous', 'Presentism', 'Drug-resistant', 'Bishop', 'Orthodox', 'Independent', 'Russian', 'IANA', 'Attendees', 'ARPA', 'Apellon', 'Attic', 'Travelling', 'Atlantic', 'Handel', 'Hemlock', 'Against', 'Bilateral', 'Today', 'around', 'London-based', 'States', 'Transition', 'Loops', 'Back-to-school', 'Edmund', 'Feral', 'Milena', 'Julian', 'Rulers', 'How', 'Whoch', 'Civilizations', 'Vaccination', 'Typically', 'Iwo', 'VH1', 'Freeman', 'Destabilization', 'Patriarch', 'Victor', 'Laws', 'Kings', 'Voter', 'Trophy', 'Tommy', 'Sleeping', 'Approval', 'Keyboard', 'Predator', 'Subjects', 'Proto-Slavic', 'Playstation', 'Hispanics', 'Artaxian', 'Elevation', 'One', 'Pasteurisation', 'Sir', 'Infinite', 'Glaciers', 'Impedance', 'Often', 'Thysanura', 'Marvel', 'Settlers', 'Geoffrey', 'Active', 'Setting', 'Brain', 'DNA', 'Geologically', 'Sufficient', 'Policymakers', 'Major', 'Non-standardized', 'Andreas', 'Corixids', 'Chemical', 'Permanent', 'WHich', 'Finite', 'Having', 'Valencia', 'Lower', 'Air-dried', 'Advocates', '360', 'Prussia', 'Jonathan', 'Disney', 'Ending', 'Heian', 'rather', 'Hong', '1080i', 'Hannibal', 'Alternatively', 'Sila', 'Sugar', 'Admiral', 'Book', 'High', 'Wearing', 'Per', 'Neil', 'Shell', 'Guinea-Bissau', 'Deeply', 'Drinking', 'Greeks', 'Buddhism', 'Example', 'Schools', 'Literary', 'Susa', 'Ellis', 'Canada', 'Tomboy', 'Fossils', 'Boolean', 'Excerpts', 'Arsphenamine', 'Regions', 'Several', 'Mutts', 'Concepts', 'Asita', 'Avoidance', 'Rosemary', 'India', 'Duke', 'Libelles', 'Tanasi', 'Internet', 'Rounder', 'Some', 'Vihuelas', 'Liberation', 'Island', 'Characters', 'September', 'Neighbours', 'Singapore', 'Arthur', 'Readers', 'WBUR', 'Ice', 'Ceremonies', 'Avoiding', 'Patients', 'SBC', 'Willam', 'Instrument', 'Czechs', 'Projectiles', 'Lionel', 'Communications', 'Given', 'Therapy', 'Translations', 'Max', 'Dish', 'Chemicals', 'Did', 'Biblical', 'Gregory', 'Annealling', 'Schumann', 'Elam', 'whats', 'Higher', 'Tin', 'Parts', 'Broader', 'Reports', 'At', 'Basso', 'Chapultepec', 'ISO', 'Bern', 'Of', 'Right', 'Learning', 'Birds', 'Development', 'Serotonin', 'Pain', 'Unionists', 'Carl', 'Among', 'RAF', 'Collembola', 'Interplay', 'Werner', 'waht', 'Maulana', 'Official', 'Romanticism', 'Aside', 'Rome', 'Arthropods', 'Wats', 'Cossacks', 'Loud', 'Benito', 'Castillan', 'SWAPO', 'Beyer', 'Sea', 'Delhi', 'Buying', 'Courts', 'Sharks', 'Paganism', 'Bombing', 'After', 'Spectre', 'Hours', 'Georgian', 'Exercise-induced', 'Baltica', 'Cooler', 'Eavesdropping', 'Photovoltaic', 'HDTV', 'Ganglia', 'AT', 'Biggeri', 'Only', 'Clinical', 'Pieces', 'SURE', 'Britain', 'Risch', 'Those', 'Turks', 'Web', 'Structure', 'Whas', 'Than', 'Ducks', 'Synthpop', 'Mohammad', 'City', 'W-VHS', 'Gleick', 'An', 'Ingesting', 'Nations', 'Chitin', 'Kiyomori', 'Whed', 'Vis-à-vis', 'Fictional', 'Rosen', 'Hysteria', '*', 'Hyperinsulinemia', 'Due', 'Allowing', 'Short', 'Firewalls', 'Combining', 'Domestic', 'Orozco', 'Currently', 'Doing', 'Methodists', 'Non-traditional', 'Stepinac', '155th', '``', 'Worldwide', 'Traditional', 'Global', 'Modern-day', 'Portugal', 'It', 'Advances', 'Eusocial', 'Paul', 'Nehru', 'Pins', 'Métal', 'Drugs', 'Columbia', 'Immediately', 'Complex', 'Being', 'Researcher', 'khorovïye', 'Smaller', 'SV40', 'Electronic', 'Charleston', 'Holland', 'Many', 'Depending', 'as', 'Captian', 'Continued', 'Hidalgo', 'Route', 'Fellows', 'Japan', 'Without', 'Turkish', 'Jan', 'Brandenburg', 'LEDs', 'Urinating', 'Totaling', 'Socioeconomic', 'Hound', 'Investing', 'Commentated', 'Tragedy', 'Imamah', 'Lie', 'Scholars', 'utrecht', 'Bilingual', 'Crassus', 'Ash', 'Murders', 'Mimicry', 'Though', 'Traits', 'Killer', 'Hyderabadi', 'Nociceptors', 'James', 'Multitasking', 'Initially', 'Conversely', 'Kinship', 'Broods', 'Do', 'Broadcast', 'Airports', 'Super', 'Heat', 'Prepaid', 'Initiative', 'Emilie', 'Mantras', 'Debutantes', 'Ancestors', 'Dean', 'Ne', 'Repetition', 'Knibb', 'Newborns', 'Craft', 'Formation', 'Well-off', 'General', 'Grave', 'Same-sex', 'Tom', 'Evelyn', 'Deities', 'Wien', 'FLNG', 'René', 'Pullela', 'Basal', 'Pachelbel', 'Women', 'Nagarjuna', 'Destiny', 'Clouds', 'Reflexes', 'Visits', 'Arterial', 'Whch', 'Someone', 'Whaen', 'Investment', 'Control', 'White', 'Storyboards', 'Great', 'Reaction', 'Game', 'AME', 'Apple', 'Larry', 'Keith', 'Orlam', 'Homeostasis', 'Part', 'Researchers', 'Köppen', 'Soldiers', 'Gothic', 'Statistically', 'Campidanese', 'Multielectrode', 'Coat', 'atkins', 'Simpson', 'Households', 'Namibia', 'Unlike', 'Durango', 'Galicia', 'Hemimetabolous', 'Guests', 'Muffling', 'Sky', 'Excitement', 'Christoph', 'Nam', 'MediaOne', 'Opposition', 'Scotland', 'Tower', 'Movements', 'None', 'Prior', 'Minimally', 'Stone', 'Housing', 'Emperor', 'Cardinal', 'People', 'Terrorists', 'Mason', 'Houston', 'Hellenistic', 'Cape', 'Fpr', 'Features', 'Rita', 'Documents', 'Parental', 'Corporal', 'Gherman', 'Missionary', 'Postmodern', 'Montesquieu', 'Individuals', 'Secret', 'Judges', 'Mennonites', 'Persians', 'Zen', 'Vibration-sensitive', 'Under', 'Qing', 'Landings', 'Rajasthan', 'Vine', 'Females', 'Plant', 'rapid', 'Triploblastic', 'Trading', 'Politicians', 'Processing', 'Judaism', 'Plymouth', 'Beech', 'Bismarck', 'THe', 'Softening', 'Bootylicious', 'Diffusive', 'Giving', 'Balance', 'Most', 'Along', 'Whittington', 'Natural', 'Burma', 'CBC', 'Highest', 'According', 'Cctavianus', 'Lessons', 'Garze', 'Further', 'ASCI', 'Another', 'Bach', 'Link', 'Friday', 'Odd-numbered', 'Convention', '13th', 'Burroughs-Wellcome', 'Muslims', 'African', 'Pat', 'Demotic', 'Extremely', 'Glial', 'density', 'Easy', 'Upright', 'Roman', 'Jewelry', 'Bermuda', 'Nasser', 'Neglect', 'Arnold', 'Capello', 'Frontiersmen', 'Alternative', 'To', 'Popper', 'Union', 'Colombier', 'Armenian', 'Zhejiang', 'Hyderabad', 'Rising', 'Bees', 'Astronomy', 'Cellular', 'Non-OTG', 'Fort', 'Idol', 'Software', 'Pinning', 'from', 'colloquial', 'WHere', '5000', 'Sated', 'Reader', 'Kanmu', 'Universal', 'Quarks', 'Marmontel', 'Lice', 'Mephitis', 'Imports', 'Viviparous', 'Beyond', 'Flies', 'Excess', 'Gray', 'Unicode', 'UK', 'Governmental', 'Lots', 'Genetic', 'Clark', 'Adjusted', 'Angara', 'Perseus', 'Voice', 'Monody', 'Conquests', 'OTE', 'Realms', 'Red', 'Apollo', 'Why', 'Air', 'Jealous', 'Safety', 'Hayek', 'Def', 'Salla', 'throughout', 'Can', 'Massive', 'Smart', 'Changes', '300', 'Midwesterners', 'Coupled', 'Polymophism', 'Percentage', 'Municipalities', 'Diseases', 'Livingston', 'Included', 'besides', 'Clementa', 'Power', 'Duration', 'Dipoles', 'Feminist', 'Gustavo', 'Anatomy', 'Mach', 'Neighborhoods', 'Tamudic', 'Polish', 'Out', 'Roku', 'France', 'Radars', 'Valens', 'Aviation', 'Lester', 'Lack', 'Oltenia', 'Loose', 'Non-African', 'FST', 'Action', 'Peru', 'Randomly', 'Barracks', 'enlish', 'Colonization', 'Hitting', 'Nicosulfuron', 'Prisoners', 'when', 'Flowers', 'William', 'Heading', 'Pesticides', 'YOutube', 'Funding', 'Bon', 'Ismail', 'Mogadishu', 'Chimamanda', 'Trying', 'Backwoods', 'Costs', 'Does', '50', 'renaissance', 'Who', 'China', 'Ossetic', 'Within', 'Emperors', 'Anticircumvention', 'Magnifier', 'Free-form', 'Riverbank', 'Antidepressants', 'Rawlinson', 'Y', 'Words', 'Passages', 'Ring-porous', 'Durkheim', 'Contrary', 'Blockbuster', 'Historians', '187th', 'Zinc', 'Babangida', 'Billy', 'Athanasius', 'Use', 'UNFPA', 'Equipment', 'Radar', 'Poorly', 'Anyone', 'Lapis', 'Connecting', 'Mainstream', 'Koch', 'Assyria', 'Wings', '20th', 'Aphis', 'High-rise', 'Barrage', 'Crazy', 'Axons', 'Low', '54', 'Rather', 'Dutch', 'Records', 'Hugh', 'Gladstone', 'Explain', 'Street', 'WHy', 'Offerings', 'synthesizers', 'Matches', 'Suffering', 'On', 'Coercion', 'Microsoft', 'Strict', 'Something', '1000', 'Upon', 'Reservations', 'Desktop', 'Bribes', 'Attendance', 'Alloparenting', 'Leon', 'Whee', 'Hawaii', 'North', 'Production', 'Levels', 'Neoplatonism', 'Frank', 'Polyphonic', 'Various', 'Leotards', 'Niccolò', 'Montevideo', 'Overdependence', 'Fertilization', 'Tremont', 'Contributions', 'Whose', 'Receptacles', 'Calculating', 'Grey', 'MBS', 'UCS', 'Tajwid', 'Orontid', 'Cubists', 'Somali', 'National', 'Borough', 'Yale', 'Springtails', 'Recent', 'Giovani', 'Solar', 'Supreme', 'Followers', 'Zermelo', 'Min', 'Albert', 'Guns', 'Strepsiptera', 'Rocks', 'Lemming', 'Verse', 'Stewart', 'Afterwards', 'Whic', 'Approximentally', 'Economic', 'Gaddafi', 'Suga', 'Wind', 'French', 'Nowadays', 'Creatures', 'Shramanas', 'Friedrich', 'Church', 'Krispy', 'Serialization', 'Radio', 'Un', 'Normally', 'Ghulam', 'Hunted', 'Opus', 'IndyMac', 'Substandard', 'Artifacts', 'Arts', 'Lay', 'Josef', 'Eisenhower', 'Reticular', 'Staring', 'Intellectual', 'Ananda', 'Compression', 'Like', 'SPSS', 'Gandhi', 'Coalition', 'Firms', 'Antigen', 'Historic', 'GIving', 'Leibnitz', 'Westminster', 'Churches', 'Ashkenaz', 'Heart', 'Nader', 'Faith', 'Asymmetric', 'Mount', 'Techno', 'WHo', 'Reading', 'Popcorn', 'War', 'Baptist', 'Less', 'Mont', 'Tahitian', 'Miller', 'd', 'Ctenophora', 'Coverage', 'hat', 'Pentecostals', 'Jehovah', 'Gunlaying', 'Spain', 'Rocket', 'Termites', 'Vipassana', 'Regualtions', 'Sweden', 'Soon', 'Macedon', 'Authors', 'Adolescent', 'Philip', 'May', 'Both', 'Farm', 'what', 'later', 'Translated', 'Psychiatrists', 'Grow', 'Golconda', 'Tenuis', 'george', 'Engineering', 'Truman', 'Human', 'Bushi', 'Ronald', 'Phengodidae', 'Pergamum', 'Glaciars', 'Element', 'vytautas', 'Give', 'Couts', 'From', 'Extra', 'Freemasonry', 'Ho', 'Fearing', 'PeeWee', 'Passenger', 'Prajna', 'Goldacre', 'Brincourt', 'Stallman', 'Whhat', 'pʰ', 'Anne', 'Myelin', 'Aove', 'St.', 'Cyberabad', 'Leaving', 'OCA', 'Gurian', 'UI', 'Promulgation', 'Locke', 'Aonuma', 'Outside', 'Was', 'Matter', 'Whithout', 'Padma', 'youtube', 'Cities', 'Teletype', 'Feyman', 'In', 'German', 'Belize', 'Dr', 'Carolingian', 'Tensions', 'Bessarabia', 'NARA', 'Nationalist', 'Reactive', 'do', 'Daylight', 'above', '8th', 'Stain-resistant', 'Warfare', 'Sumerians', 'marshall', 'Arabia', 'Virgil', 'Soft', 'Sinhalese', 'Iranian', 'Pork', 'Billions', 'Old', 'Luminous', 'Holding', 'Brass', 'Jaipur', 'Living', '181st', 'Russians', 'Radical', 'Neal', 'Buckingham', 'Attalus', 'Thinkers', 'Baptists', 'after', 'Executive', 'Herero', 'Panter', 'Albania', 'Thalidomide', 'UCL', 'Baroque', 'Selling', 'Park', 'Ontological', 'Willett', 'Passive', 'Hormuud', 'Letter', 'iPods', 'West', 'aproximately', 'Steamships', 'Sicily', 'Animals', 'W', 'Local', 'Markers', 'Godly', 'Medieval', 'Ethnic', 'Dragonflys', 'Author', 'Vaccinations', 'Trade', 'Historically', 'Slovo', 'Salam', 'Western', 'Korolev', 'Petropavlovsk', 'Critics', 'Moths', 'Classic', 'Sebastian', 'Paideia', 'Excessive', 'Proponents', 'Barts', 'Irvin', 'Denis', 'Lebanese', 'Individual', 'Hok-Lam', 'Architecture', 'about', 'Layla', 'T3', 'Companies', 'Frequent', 'By', 'Zn', 'TAFE', 'Providing', 'Kathmandu', 'House', 'Towards', 'MundoFox', 'Tarski', 'Mrigavyadha', 'IBM', 'Southampton', 'Form', 'Installing', 'EPN', 'Anti-aircraft', 'With', 'Dell', 'Zener', 'Shorter', 'Cappadocia', 'Atticus', 'Full-bandwidth', 'Greater', 'Middle', 'wearing', 'Gain', 'Poppers', 'Afonso', 'Scandinavians', 'Birth', 'Voters', 'Pure', 'Polyphony', 'December', 'Clothing', 'Oliver', 'Repeatedly', 'Waht', 'Horn', 'Large', 'Elimination', 'Mariel', 'Electrodes', 'ACLs', 'Chorion', 'where', 'Kilims', 'Doubly', 'Coordinative', 'Digital', 'Mechanically', 'Intraguild', 'Political', 'Masons', '39.5', 'Matthew', 'Around', 'Randomness', 'Halvard', 'Former', 'Lord', 'Petrarch', 'Ban', 'Organophospates', 'Freemason', 'Afraid', 'Hokkien', 'Sanskrit', 'Speakers', 'Insulin', 'Damage', 'Channel', 'is', 'If', 'Pedro', 'lbert', 'Moderns', 'English', 'Lagrime', 'Brown', 'SD', 'Rumors', 'Omnipresent', 'Quranic', 'Santa', 'Hakka', 'Alsace', 'Composers', 'Narrative', 'Justify', 'PlayStation', 'Mycetophilldae', 'Affirmative', 'Together', 'Drug', 'Warriors', 'Malyarchuk', 'Before', 'Three', 'HP-branded', 'Monopole', 'PFOA', 'Castro', 'Lee', 'Armies', 'Pumped-storage', 'Paraneopter', 'Squash', 'Boyd', 'Decisions', 'Interpretations', 'Melungeons', 'Ritchie', 'Race', 'Economist', 'Self-psychology', 'Hydrogen', 'Holden', 'Later', 'Pontus', 'NYPD', 'Norfolk', 'Whio', 'ISA', 'Recognition', 'PLO', 'Zhongshan', 'Songhai', 'Corrupt', 'Society', 'Beginning', 'Unedited', 'Dukkha', 'Capitalization', 'Regarding', 'Much', 'U.S.', 'Universities', 'Energy', 'Gallagher', 'Community', 'Consent', 'Witchety', 'Glam', 'Morelos', 'Overvaluation', 'Soyuz', 'Latin', 'Twilight', 'Tok', 'Whites', 'Hormones', 'Rock', 'Hydrogens', 'Exposure', 'Serving', 'President', 'Theravada', 'Ṣalībī', 'Norepinephrine', 'Plato', 'Traffic', 'Smyth', 'Countries', 'Activity', 'SuperSpeed', 'Fat', 'Cinnabar', 'Up', 'Theories', 'Pyometra', 'El', 'Rivals', 'Girls', 'Haplodiploidy', 'Chromosomes', 'Captive', 'Saqaliba', 'Kairomones', 'Detroit', 'Representations', 'Customarily', 'Beloved', 'Iranians', 'Originally', 'Himachal', 'Immunology', 'Disk', 'Captain', 'GABA', 'Konrad', 'Chris', 'why', 'have', 'Narrow', 'Character', 'Nobles', 'A440', 'GMT', 'Juarez', 'Precepts', 'Till', 'Northern', 'which', 'April', 'Minuscule', 'Wher', 'Nixon', 'Prussian', 'Cells', 'Hoe', 'Ethiopia', 'Procopius', 'You', 'Mixing', 'Hydropower', 'Afrikaans', 'Any', 'Jewish', 'Security', 'Encyclopedias', 'Giovanni', 'Presbyterianism', 'Literature', 'Eyak', 'on', 'Roule', 'NATO', 'Protestants', 'Bicycling', 'Dissociating', 'Sputnik', 'Bactrian', 'Greek', 'Bactria', 'Abuse', 'Pirie', 'Avant-garde', 'Tauton', 'Preparing', 'Assembly', 'Aluminium', 'Cronyism', 'Late', 'Sands', 'Laurel', 'Micro-electro', 'Constructs', 'Grande', 'Fields', 'Distinction', 'Charles', 'Saadia', 'Stress', 'Insect', 'POJ', 'Visitors', 'how', 'Particularly', 'Cynanthus', 'Pontian', 'Portuguese', 'Layers', 'Minority', 'Instructions', '11th', 'Reforms', 'Non-standard', 'Each', 'Literate', 'Bugs', 'Menander', 'Buddism', 'Douay', 'Placing', 'Timing', 'Single', 'Puritans', 'Pierre', 'Videophone', 'Hight', 'Self-image', 'Controversy', 'Mustaqbal', 'Whate', 'Transistors', 'Visual', 'PCR', 'Football', 'Mystic', 'Motor', 'Organochlorine', 'Cache', 'Europeans', 'Kanye', 'Geographically', 'Target', 'Tajikistan', 'Edwin', 'Different', 'Affluent', 'Protestantism', 'Computing', 'Furniture', 'Ehat', 'Veterans', 'Whan', 'Vehicle', 'Capital', 'America', 'Renewables', 'during', 'Avian', 'Stringed', 'August', 'IP', 'Nicky', 'Hipparchus', 'Tim', 'Liberia', 'Institutional', 'Byte', 'Calf', 'Using', 'Culturally', 'Dromaeosaurids', 'Macau', 'Bain', 'Pepsi', 'Michael', 'Assuming', 'Brownstone', '2000', 'Will', 'Apart', 'Students', 'BDNF', 'Descending', 'Houuricanes', 'Wood', 'Traveling', 'Signals', 'Camoflauge', 'Buridan', 'Władysław', 'Archival', 'Perpetrators', 'Eastern', 'Slash', 'Ashkenazi', 'Inhabitants', 'Trains', 'WHat', 'Organic', 'Calculi', 'Paperback', 'Decay', 'New', 'Harmonics', 'Stainless', 'Reporting', 'Bottom', 'Wisdom', 'Programming', 'MES-1', 'Vinters', 'Increasing', 'Duties', 'Kid', 'Kant', 'Life', 'Average', 'Sandakan', 'Policy', 'Jose', 'Its', 'Google', 'About', 'Ruins', 'Carolina', 'Season', 'Asian', 'renovations', 'WHn', 'J.S', 'Adding', 'Islam', 'Drosophila', 'Antiparticles', 'Louis', 'I2a1b1', 'Shiraz', 'Underground', 'Affiliates', 'Blue', 'David', 'Liquid-fueled', 'Antiochus', 'Grapes', 'Opera', 'Choules', 'Symbolically', 'She', 'Southern', 'Lamps', 'Firefox', 'Bronkhurst', 'Section', 'Gumbe', 'Tendai', 'Above', 'Cork', 'Voltaire', 'Hellinistic', 'Unemployment', 'Jay', 'Pottery', 'Between', 'Anglo', 'Pollen', 'Developments', 'Elevations', 'Sample', 'Napoleon', 'Support', 'Congress', 'Abraham', 'Public', 'Queen', 'Morphology-based', 'Etch-back', 'What', 'Has', 'Garuda', 'Niel', 'Neurogenesis', 'Two-fifths', 'We', 'Environmental', 'Cicadas', 'ABout', 'Connaught', 'Telegu', 'Kerry', 'Brains', 'Zari', 'Handshake', 'Credit', 'Plaza', 'Athens', 'Ranunculus', 'Printed', 'Monastics', 'Electromagnetic', 'Income', 'Islamic', 'PAL', 'Shumer', 'Antennas', 'Ultimately', 'Poetry', 'Somalia', 'Sameness', 'Next', 'Pan-Slavism', 'Respiration', 'Nintendo', 'Technology', 'Edvard', 'Gran', 'Powerful', 'Dominican', 'ENIAC', 'Carbon', 'Bostons', 'Farming', 'Dead', 'Least', 'abbé', 'DeveloperWorks', 'Music', 'Tags', 'Ivan', 'TV', 'Nwankwo', 'I', 'Strasbourg', 'Tengen', 'Rebirth', 'Arabian', 'Multi-color', 'Hg', 'Religious', 'Notre', 'Social', 'Safavid', 'During', 'Autosomal', 'Half', 'Home', 'Washington', 'Seditious', 'Von', 'Psychological', 'Parque', 'Whish', 'Wa', 'a', 'Methodism', 'Poor', 'Earthquakes', 'Thomas', 'Not', 'Rain', 'Succession', 'Slaveholders', 'NICE', 'This', 'When', 'DeCarlo', 'Explorers', 'Karen', 'Testing', 'Knighthood', 'TechRadar', 'Discussing', 'Absolute', 'Suddhodana', 'Filming', 'Hinduism', 'Writer', 'Entrapment', 'Write', 'Approximately', 'Boston', 'Sasha', 'Pressure', 'Rainfall', 'condensed', 'FighterCommand', 'Voltage', 'Pewter', 'Commercial', 'by', 'Are', 'Dior', 'Photodermatitis', 'Jews', 'ATC', 'Devotion', 'Johannes', 'Maria', 'Mass', 'USAF', 'Mahiat', 'Material', 'ICRISTAT', '2', 'Thousands', 'Teams', 'Abilities', 'IS', 'Mizrahi', 'Other', 'Stimulants', 'Spanish', 'Bilaterians', 'Organisms', 'Fine', 'Denmark', 'Four', 'Fireworks', 'Goddard', 'Comcast', 'Efforts', 'Kenneth', 'Posting', 'name', 'Tylos', 'Disease', 'Meninges', 'Mutual', 'Malians', 'Creole', 'Beatport', 'Maintaining', 'Oral', 'Prudhoe', 'Alan', 'Functioning', 'Almost', 'Alive', 'Articles', 'Attempts', 'Illegal', 'American', 'IASP', '1914', 'Sauropsids', 'Smartzone', 'Rimer', 'half', 'Media', 'Hand-calculations', 'Rational', 'Microfilms', 'Rummel', 'Fox', 'Penumata', 'Secretary', 'Dennis', 'Aspiration', 'Were', 'Classical', 'Cologne', 'Suleiman', 'Separationists', 'Heroic', 'Cardinals', 'Ireland', 'Military', 'Athletes', 'Reception', 'Submarine', 'Known', 'USB', 'Liberating', 'Every', 'Dionysus', 'The', 'Charged', 'Because', 'ZnO', 'Hosts', 'Netscape', 'Bohr', 'Incomplete', 'Tango', 'Isis', 'Boycotters', \"'Melting\", 'Whatyear', 'Haplogroup', 'Parish', 'Changing', 'Historical', 'Ascension', 'McWhorter', 'Improvisation', 'Psychiatry', 'Contestants', 'Daylighting', 'MIT', 'Attempting', 'Whom', 'Raisina', 'Saxophone', 'Toxocariasis', 'Analysis', 'Close', 'Previous', 'Diarrheal', 'Good', 'Treaties', 'Government', 'Man', 'Education', 'Skilled', 'Magnates', 'Manolita', 'ASCII', 'Gotamas', 'Bushy', 'Invocation', 'Bacterial', 'Kukuzelis', 'Slovene', 'Isoniazid', 'Supply', 'Going', 'Armenia', 'Vibrations', 'Bodhisattvas', 'Vajrayana', 'Species', 'Buyers', 'Millions', 'Content', 'Catalan', 'Eye', 'No', 'Whats', 'Navicella', 'Egyptianized', 'Article', 'ACT', 'dd', 'Bob', 'Estonia', 'Congressional', 'Forbes.com', 'Victoria', 'UHI', 'Twice', 'Serbo-Croatian', 'Dialects', 'Identify', 'Drivers', 'Precursors', 'Carrier', 'Climate', 'I-24', 'Deductions', 'Yaroslav', '`', 'Godel', 'R-7', 'Agencies', 'Horace', 'Bagaru', 'industrialization', 'Slow', 'Comparing', 'the', 'Crows', 'Nadiya', 'Governments', 'Herbert', 'Antarctica', 'Peking', 'Whether', 'Toward', 'Laypersons', 'Carrefour', 'Origanum', 'Samsara', 'Alexander', 'Sending', 'There', 'Multilateral', 'Charlemagne', 'Atomically', 'England', 'Monks', 'Saltpetre', 'Hyponatremia', 'Physical', 'Nicholas', 'AAI', 'Recylced', 'ICBMs', 'Peoples', 'Agriculture', 'Lighting', 'Financial', 'Gold', 'Connecticut', 'Astrology', 'Edward', 'Relative', 'Black', 'Diamond', 'Rove', 'Candidates', 'early', 'Emotion', 'US', 'Debut', 'Vienna', 'Inscriptions', 'Afrotheria', 'Ghorala', 'Trends', 'Works', 'Hydroelectricity', 'Whichgroup', 'Hyundai', 'Germans', 'Recognizing', 'Webcomics', 'Judea', 'Targets', 'Fuel', 'Samuel', 'London', 'BeDuhn', 'Parliamentary', 'Ebreo', 'Calabar', 'Soul', 'Photo', 'Earlier', 'Coupling', 'Supporters', 'Streptococci', 'Whit', 'Longhorn', 'Scotty', 'Rousseau', 'Progressive', 'Current', 'LiftEye', 'Croatian', 'Oak', 'PIccolo', 'Minkowski', 'Lead', 'Chinese', 'Copper', '.What', '4', 'Insects', 'Francisco', 'True', 'Landside', 'Consumers', 'Would', 'Teenagers', 'Eventually', 'Retirees', 'Discussion', 'Islands', 'RAM', 'Kurent', 'LED', 'Jonathon', 'Switzerland', 'Moving', 'Akkadian', 'Avicenna', 'Secure', 'Compensation', 'Reduced', 'Tolimir', 'Oklahoma', 'Certain', 'Richard', 'Caribean', 'Erasmus', 'Performance', 'Sergei', 'Throughout', 'Wolves', 'Shaping', 'Encyclopedia', 'Grand', 'Surface-mount', 'Rationalism', 'Christós', 'between', 'Left', 'Adherents', 'Familiarty', 'Justifying', 'Original', '114th', 'Pamlico', 'Lenin', 'Regardless', 'Pilote', 'Freemasons', 'Identity', 'Persecution', 'Low-bandwidth', 'Early', 'Work', 'Israeli', 'Obligations', 'For', 'Warner', 'Compared', 'Regional', 'Measles', 'La', 'OGIS', 'Meditation', 'European', 'Crushing', 'Starting', 'Damaged', 'Bath', 'Marian', 'Pig', 'Constantinople', 'Passing', 'Constructing', 'Sometimes', 'Casavantes', 'Oppidan', 'Projects', 'Basic', 'Pancho', 'Beetles', 'Spacial', 'Masakado', 'Burke', 'Polabian-Pomeranian', 'Reefs', 'Scout', 'Troiden', 'They', 'Athenian', 'Small', 'Israel', 'Psycho-physical', 'Since', 'Moltke', 'Well-fed', 'Analog', 'Vegetarian', 'Slaves', 'Growth', 'Games', 'Ag3Cu', 'Elena', 'Pectoralis', 'Whos', 'These', 'Dinic', 'DST', 'Schnitzel', 'Haydn', 'Rayon', 'Pope', 'Tribes', 'Competition', 'Hellenism', 'Others', 'Assyrian', 'Humans', 'Agassiz', 'Animal', 'Unittarians', 'Nearly', 'Confessional', 'Segments', '800,000', 'Tagalog', 'R.', 'Formal', 'Besides', 'Requiring', 'Had', 'CJFC', 'Chopin', 'Despite', 'Computers', 'Whad', 'Tasmania', 'Palermo', 'Dogs', 'Automobile', 'Chopiniana', 'Over', 'Carnival', 'Neuroscience', 'Where', 'Grammar', 'Stimulating', 'Materialism', 'Tres', 'Preceding', 'Images', 'Movement', 'Vibrating', 'Sounds', 'Videoconferencing', 'Beliefs', 'Feynman', 'Time', 'Nigel', 'Insectivorous', 'Cabrini', 'LaserDisc', 'Swaps', 'Mary', 'Alaska', 'Mammals', 'NYC', 'Hundreds', 'Statues', 'Name', 'Pita', 'Food', 'Confrontational', 'HOw', 'Hostile', 'Melbourne', 'Perceiving', 'Michigan', 'Decoders', 'Aging', 'Wadsworth', 'Oxford', 'Al-Biruni', 'Pre-war', 'Mali', 'Alloys', 'Jack', 'Al-Farabi', '22', 'Now', 'Bad', 'Input', 'Simon', 'Temperatures', 'Ann', 'Multiprocessor', 'Youtube', 'Wang', 'Near', 'Aphrodite', 'Dog', 'Native', 'Saint', 'Medical', 'Goes', 'Follicles', 'percentage', 'Decision', 'Following', 'Money', 'Places', 'Uruguay', 'Even', 'Bases', 'Phonotactics', 'Comiskey', '1.1', 'Kiss', 'Fishing', 'Deshin', 'News', 'Buddha', 'Futron', 'Nutritional', 'Little', 'Kosher', 'Journals', '120th', 'Diethylene', 'Iran', 'Artist', 'Variation', 'Portugese', 'Lawrence', 'Until', 'Is', 'Hunt', 'Such', 'Written', 'Allston', 'Asking', 'Hammer', 'Queens', 'Players', 'Employment', 'Italian', 'Einstein', 'Illyrian', 'Nirvana', 'Precipitation', 'Peithon', 'Henry', 'Missionaries', 'Interstate', 'Jesuits', 'Tourism', 'Aspirated', 'Whitehead', 'Huge', 'Macedonia', 'Assumptions', 'Mayday', 'Weekly', 'Smelter', 'Stinger', 'Below', 'Adult', 'Planck', 'Define', 'False', 'EIC', 'Casual', 'Bi-racial', 'PepsiCo', 'Standard', 'Heavy', 'Users', 'Hypersexual', 'Consumer', '525', 'Generally', 'Impressive', 'MDNA', 'Pitch', 'Fear', 'Aristotle', 'Voiced', 'Mrs.', 'Technically', 'Heian-kyo', 'Counties', 'Managers', 'Hans', 'Cleopatra', 'Cognitive', 'Woyciechowski', 'Arab', 'Wat', 'Newer', 'Tito', 'Men', 'Oxygen', 'Nanjing', 'Mahayana', 'Jacobson', 'John', 'Baena', 'Mamelon', 'Tha', 'Everything', 'Spiderman', 'Research', 'Omniprestent', 'So', 'Percy', 'Vacuum', 'Discovery', 'Fighting', 'Art', 'However', 'Cladistics', 'Schwarzenegger', 'Olduwan', 'Estrella', 'Druze', 'Integer', '2013', 'Overtime', 'Spoleto', 'Ancient', 'Date', 'Devices', 'Signatories', 'Proximity', 'WPXD', 'Barrel', 'South', 'Coffehouses', 'Defected', 'Madero', 'Colloquial', 'Perfect', 'Noble', 'Science', 'Wifi', 'Guerra', 'Communists', 'Performers', '355', 'Clarke', 'Water', 'Folk', 'Hogarth', 'Recipients', 'Kind', 'Nusach', 'Eudicots', 'Gas', 'Designers', 'Origen', 'Neo-classical', 'Indian', 'Winston', 'Biological', 'Haredi', 'Drama', 'PC', 'Microchips', 'Maudlin', 'Materials', 'While', 'Adolescents', 'Electricity', 'Harff', 'Bronze', 'Karma', 'WWhat', 'Pfizer', 'Symptoms', 'Hoklo', '2012', 'Declining', 'Assistance', 'Zeus', 'Sprint', 'Finding', 'Greenpeace', 'Primordialist', 'Christ', 'Declaration', 'Canis', 'Hawking', 'Terrorist', 'HTML', 'UNtil', 'Lodges', '/u/', 'Antagonistic', 'Octavian', 'Al-Battani', 'Convicted', 'Few', 'Humoral', 'Wy', 'Europe', 'Closer', 'De', 'Immigrants', 'Mitochondrial', 'Tufts-', 'Bulgaria', 'Russia', 'Migratory', 'Continental', 'Villa', 'Electric', 'Facial', 'Could', '16th', 'Urban', 'Pomors', 'Studying', 'Fake', 'HTTP', 'Camillo', 'Hard', 'Airburst', 'Coinage', 'Cubism', 'Neurons', 'More', 'Light-receptive', 'Ai-Khanoum', 'Motion', 'Howmany', 'Hellenized', 'Alhazen', 'Germanic', 'Lieberman', 'EMP', 'Dietary', 'Eugen', 'Ursus', 'de', 'Rigas', 'Diesel', 'Al-Andalus', 'Commonwealth', 'Silkworms', 'Czech', 'Paraffin', 'Advertisers', 'Allotrophy', 'Papyri', 'Greco-Macedonian', 'previous', 'Raeder', 'Central', 'Muhammad', 'Britian', 'Admiration', 'Data', 'Traditionally', 'Galschiøt', 'Experts', 'Serbs', 'Unequal', 'Reflector', 'Submarines', 'Discussions', 'Outer', 'Lingayen', 'CBS', 'Samatha', 'Programs', 'King', 'Prontosil', 'Morningside', 'Hydraulic', 'Computer', 'Quick', 'George', 'Justice', 'Die', 'Dovrak', 'Uses', 'Pb2+', 'Their', 'Gajapati', 'Residents', 'Clusters', 'Listening', 'THE', 'Analysts', 'Emmett', 'Members', 'Mindfulness', 'Beside', 'Taken', 'Prices', 'Americo-Liberians', 'All', 'Paper', 'Mapping', 'MP3Gain', 'Relatives', 'Service', '808s', 'Disparities', 'Led', 'Igbo', 'Existing', 'Similar', 'Absence', 'Octaves', 'Parabolic', 'Hounds', 'Long', 'Investigations', 'Leibniz', 'ASTP', 'Surzhyk', 'Paleoptera', 'Including', 'in', 'Critical', 'Computational', 'Have', 'Elements', 'Mandarin', 'Molecules', 'Reform', 'Foreign', 'Wha', 'Exactly', 'Sweating', 'Examinations', 'International', 'Anniversaries', 'Terrestrial', 'Sun', 'Christians', 'Downtown', 'Nara', 'Historian', '[', 'Jazz', 'Alb', 'Inserting', 'Serious', 'Boundaries', 'Growing', 'Deflection', 'Circa', 'Gautama', 'Go', 'Apprimately', 'Endo', 'Whar', 'Modern', 'Through', 'Signing', 'Steel', 'And', 'Domain', 'Groups', 'Semiochemicals', 'Tang', 'Ottoman', 'Nature', 'Dalkom', 'there', 'Locusts', 'Complaints', 'Cases', 'Debuccalization', 'Corruption', 'Distinctive', 'Indoor', 'Atari', 'Present', 'Her', 'Rhythm', 'Spinoza', 'Understanding', 'Film', 'Cuarenta', 'Constitutional', 'Protective', 'Liverpool', 'Vertebrates', 'Massalia', 'Paragraph', 'Ethnohistory', 'Past', 'Common', 'Zyprexa', 'Royal', 'WHen', 'Knesset', 'Immanuel', 'Beyonce', 'Conversations', 'HD', 'Should', 'Carthage', 'Instead', 'Ogranisms', 'Nietzsche', 'Manuel', 'Crimson', 'Hunting', 'Arizona', 'Libraries', 'Downstream', 'Primates', 'Contemporary', 'Second', 'Children', 'Producers', 'Whi', 'Maverick', 'Discrepancy', 'Kurt', 'Directive', 'Innovations', 'Chopins', 'Six', 'Avani', 'Beyoncé', 'Carranza', 'Plitical', 'Neoptera', 'Whao', 'Prey', 'Texts', 'Emissaries', 'Fachhochschulen', 'Madonna', 'Xinhua', 'Migration', 'Multiple', 'British', 'Avenue', 'He', 'who', 'Campaign', 'Catholic', 'Flooding', 'List', 'Floyd', 'Diabetes', 'Championships', 'Pointers', 'Ibrahim', 'Buses', 'Apis', 'Ibn', 'Unicode-based', 'Formerly', 'Female', 'Discrimination', 'Big', 'Americans', 'Construction', 'CPUs', 'Diaz', 'Treating', 'Centrifugation', 'Planning', 'Avfuel', 'Thermodynamics', 'Shmuel', 'Obsidian', 'Aquila', 'Prince', 'Congo', 'Regulations', 'Sunderland', 'Relativity', 'Diderot', 'Mid-18th', 'Blacks', 'Comics', 'Inspired', 'Gagan', 'ho', 'Illegally', 'Miami', 'Whicy', 'Four-fifths', 'Pilot', 'Inside', 'Sri', 'Periodic', 'Twelve', 'AAC', 'IN', 'Germany', 'Additional', 'Phonology', 'Dry', 'Dominic', 'Capitalism', 'Equestrianism', 'Increased', 'Colors', \"d'Alembert\", 'Elevator', 'Fans', 'Leaders', 'Lackluster', 'East', 'Two', 'Pangaea', 'Slavic-speaking', 'Interest', 'Epping', 'Voiceless', 'MP3', 'Edgar', 'Kakar', 'Australia', 'Ranthamb', 'Reviewer', 'Currency', 'Browsers', 'Semitones', 'Halo', 'Wooster', 'Parties', 'Quantum', 'Travel', 'Neo-Georgain', 'Exclusive', 'Vibrato', 'FireWire', 'Jean-Etienne', 'Euro1080', 'Usually', 'Engineered', 'Peter', 'Timur', 'Bharatpur', 'Sibley', 'Berlin', 'Venus', 'Evidence', 'Buildings', 'Privilege', 'Madrasas', 'Danelaw', 'A', 'one', 'First', 'Ethernet', 'Belonging', 'Piracy', 'ALl', 'Buddhist', 'Portions', 'Brazil', 'Heavier', 'Language', 'Pinochet', 'Yugoslavia', 'Conservative', 'Deductive', 'Located', 'Adrenalize', 'Asthma', 'Immunoassays', 'Broad', 'Korean', 'Jesus', 'eSATA', 'Stephen', 'Dr.', 'Maximizing', 'Somerset', 'Prose', 'Indentured', 'MEG', 'As', 'Whixh', 'Sheryl', 'Shuman', 'Cyprus', 'Once', 'Socrate', 'Describe', 'Post', 'Into', 'Although', 'Violations', 'Rabbi', 'Vegetation', 'Rebetiko', 'Ibarra', 'Cultural', 'Maurice', 'Elisha', 'Ney', 'Geechee', 'Increases', 'Roughly', 'Miniature', 'Byzantium', 'Green', 'Sentient', 'Jo', 'Typical', '3MBS', 'Bell', 'Chlorothiazide', 'Elateridae', 'Kimat', 'Federal', 'Charities', 'avidya', 'Studies', 'Opposing', 'Asymmetry', 'Tranquilizers', 'Electronically', 'Majority', 'His', 'STC', 'Presbyterians', 'Nigeria', 'Tibetan', 'Popular', 'Daft', 'Egypt', 'Mixed', 'Cluster', 'Zbigniew', 'Retailers', 'Harper', 'Appropriate', 'Buddhists', 'Rotation', 'Wages', 'Comic', 'Canadian', 'Imperial', 'Babson', 'Representatives', 'Mahbub', 'Pop', 'Sammy', 'identify', 'Ephedrine', 'Roger', 'Lake', 'Slavs', 'Scientists', 'Vocal', 'Morphine', 'Greece', 'dada', 'Cats', 'Hunter-gathering'}\n",
      "2683\n"
     ]
    }
   ],
   "source": [
    "words_to_hide = 1\n",
    "\n",
    "hidden_merged = []\n",
    "\n",
    "for m in merged:\n",
    "    hidden = m.copy()\n",
    "    hidden[:words_to_hide] = [\"<qw>\"] * words_to_hide\n",
    "    hidden_merged.append(hidden)\n",
    "\n",
    "for i in range(5):\n",
    "    print()\n",
    "    print(\"Merged:\", merged[i])\n",
    "    print(\"Hidden:\", hidden_merged[i])\n",
    "\n",
    "interr_words = set()\n",
    "\n",
    "for questions in merged:\n",
    "    interr_words.update(questions[:words_to_hide])\n",
    "\n",
    "print()\n",
    "print(interr_words)\n",
    "print(len(interr_words))"
   ]
  },
  {
   "cell_type": "code",
   "execution_count": 37,
   "metadata": {},
   "outputs": [
    {
     "name": "stdout",
     "output_type": "stream",
     "text": [
      "Merged: ['When', 'was', 'the', 'Aussa', 'Sultanate', 'established', '?', 'end', 'of', 'the', '16th', 'century']\n",
      "Hidden merged: ['<qw>', 'was', 'the', 'Aussa', 'Sultanate', 'established', '?', 'end', 'of', 'the', '16th', 'century']\n",
      "Word to predict: When\n",
      "\n",
      "Merged: ['What', 'law', 'is', 'held', 'to', 'be', 'transmitted', 'with', 'an', 'extremely', 'high', 'degree', 'of', 'accuracy', '?', 'Oral', 'law']\n",
      "Hidden merged: ['<qw>', 'law', 'is', 'held', 'to', 'be', 'transmitted', 'with', 'an', 'extremely', 'high', 'degree', 'of', 'accuracy', '?', 'Oral', 'law']\n",
      "Word to predict: What\n",
      "\n",
      "Merged: ['Which', 'dynasty', 'did', 'Yellow', 'Tiger', 'declare', 'himself', 'the', 'emperor', 'of', '?', 'Daxi', 'Dynasty']\n",
      "Hidden merged: ['<qw>', 'dynasty', 'did', 'Yellow', 'Tiger', 'declare', 'himself', 'the', 'emperor', 'of', '?', 'Daxi', 'Dynasty']\n",
      "Word to predict: Which\n",
      "\n",
      "Merged: ['How', 'much', 'was', 'the', 'potential', 'enterprise', 'value', 'of', 'Dell', '?', '$', '25bn']\n",
      "Hidden merged: ['<qw>', 'was', 'the', 'potential', 'enterprise', 'value', 'of', 'Dell', '?', '$', '25bn']\n",
      "Word to predict: How much\n",
      "\n",
      "Merged: ['Who', 'created', 'the', 'argument', 'for', 'deep', 'time', '?', 'geologist', 'James', 'Hutton']\n",
      "Hidden merged: ['<qw>', 'created', 'the', 'argument', 'for', 'deep', 'time', '?', 'geologist', 'James', 'Hutton']\n",
      "Word to predict: Who\n",
      "\n",
      "Len of restricted merged: 75467\n"
     ]
    }
   ],
   "source": [
    "restricted_merged = []\n",
    "restricted_hidden_merged = []\n",
    "words_pred = []\n",
    "\n",
    "for question in merged:\n",
    "    if question[0] in words_to_pred:\n",
    "        restricted_merged.append(question)\n",
    "        restricted_hidden_merged.append([\"<qw>\"] + question[1:])\n",
    "        words_pred.append(question[0])\n",
    "    if \" \".join(question[:2]) in words_to_pred:\n",
    "        restricted_merged.append(question)\n",
    "        restricted_hidden_merged.append([\"<qw>\"] + question[2:])\n",
    "        words_pred.append(\" \".join(question[:2]))\n",
    "\n",
    "for i in range(5):\n",
    "    random_idx = torch.randint(0, len(restricted_merged), (1,)).item()\n",
    "    print(\"Merged:\", restricted_merged[random_idx])\n",
    "    print(\"Hidden merged:\", restricted_hidden_merged[random_idx])\n",
    "    print(\"Word to predict:\", words_pred[random_idx])\n",
    "    print()\n",
    "\n",
    "print(\"Len of restricted merged:\", len(restricted_merged))"
   ]
  },
  {
   "cell_type": "code",
   "execution_count": 38,
   "metadata": {},
   "outputs": [
    {
     "name": "stdout",
     "output_type": "stream",
     "text": [
      "\n",
      "X_words: ['1990s', 'late', 'the', 'in', '?', 'popular', 'becoming', 'start', 'Beyonce', 'did', '<qw>']\n",
      "Y_words: When\n",
      "\n",
      "X_words: ['dancing', 'and', 'singing', '?', 'up', 'growing', 'was', 'she', 'when', 'in', 'compete', 'Beyonce', 'did', 'areas', '<qw>']\n",
      "Y_words: What\n",
      "\n",
      "X_words: ['2003', '?', 'singer', 'solo', 'a', 'become', 'and', 'Child', \"'s\", 'Destiny', 'leave', 'Beyonce', 'did', '<qw>']\n",
      "Y_words: When\n",
      "\n",
      "X_words: ['Texas', ',', 'Houston', '?', 'up', 'grow', 'Beyonce', 'did', 'state', 'and', 'city', '<qw>']\n",
      "Y_words: In what\n",
      "\n",
      "X_words: ['1990s', 'late', '?', 'famous', 'become', 'Beyonce', 'did', 'decade', '<qw>']\n",
      "Y_words: In which\n"
     ]
    }
   ],
   "source": [
    "x_words = [merged_question[::-1] for merged_question in restricted_hidden_merged]\n",
    "y_words = words_pred\n",
    "\n",
    "for i in range(5):\n",
    "    print()\n",
    "    print(\"X_words:\", x_words[i])\n",
    "    print(\"Y_words:\", y_words[i])"
   ]
  },
  {
   "cell_type": "code",
   "execution_count": 39,
   "metadata": {},
   "outputs": [
    {
     "name": "stdout",
     "output_type": "stream",
     "text": [
      "\n",
      "X: [40191, 66171, 15444, 12213, 48591, 44422, 34446, 61222, 62714, 1823, 67298]\n",
      "Y: 1\n",
      "\n",
      "X: [19346, 64597, 60813, 48591, 28766, 37962, 37523, 31580, 43214, 12213, 23678, 62714, 1823, 63089, 67298]\n",
      "Y: 0\n",
      "\n",
      "X: [13298, 48591, 14118, 39227, 48672, 46323, 64597, 34055, 49779, 17477, 46675, 62714, 1823, 67298]\n",
      "Y: 1\n",
      "\n",
      "X: [42348, 41789, 733, 48591, 28766, 2160, 62714, 1823, 46683, 64597, 47876, 67298]\n",
      "Y: 10\n",
      "\n",
      "X: [40191, 66171, 48591, 1530, 46323, 62714, 1823, 55813, 67298]\n",
      "Y: 11\n"
     ]
    }
   ],
   "source": [
    "# Convert words to indices\n",
    "def words_to_indices(words):\n",
    "    return [word_to_idx[word] for word in words]\n",
    "\n",
    "x = [words_to_indices(words) for words in x_words]\n",
    "y = [words_to_pred.index(word) for word in y_words]\n",
    "\n",
    "for i in range(5):\n",
    "    print()\n",
    "    print(\"X:\", x[i])\n",
    "    print(\"Y:\", y[i])"
   ]
  },
  {
   "cell_type": "code",
   "execution_count": 40,
   "metadata": {},
   "outputs": [
    {
     "name": "stdout",
     "output_type": "stream",
     "text": [
      "\n",
      "X: [40191, 66171, 15444, 12213, 48591, 44422, 34446, 61222, 62714, 1823, 67298, 67300, 67299, 67299, 67299, 67299, 67299, 67299, 67299, 67299, 67299, 67299, 67299, 67299, 67299, 67299, 67299, 67299, 67299, 67299, 67299, 67299, 67299, 67299, 67299, 67299, 67299, 67299, 67299, 67299, 67299, 67299, 67299, 67299, 67299, 67299, 67299, 67299, 67299, 67299, 67299, 67299, 67299, 67299, 67299, 67299, 67299, 67299, 67299, 67299, 67299, 67299, 67299, 67299]\n",
      "Y: 1\n",
      "\n",
      "X: [19346, 64597, 60813, 48591, 28766, 37962, 37523, 31580, 43214, 12213, 23678, 62714, 1823, 63089, 67298, 67300, 67299, 67299, 67299, 67299, 67299, 67299, 67299, 67299, 67299, 67299, 67299, 67299, 67299, 67299, 67299, 67299, 67299, 67299, 67299, 67299, 67299, 67299, 67299, 67299, 67299, 67299, 67299, 67299, 67299, 67299, 67299, 67299, 67299, 67299, 67299, 67299, 67299, 67299, 67299, 67299, 67299, 67299, 67299, 67299, 67299, 67299, 67299, 67299]\n",
      "Y: 0\n",
      "\n",
      "X: [13298, 48591, 14118, 39227, 48672, 46323, 64597, 34055, 49779, 17477, 46675, 62714, 1823, 67298, 67300, 67299, 67299, 67299, 67299, 67299, 67299, 67299, 67299, 67299, 67299, 67299, 67299, 67299, 67299, 67299, 67299, 67299, 67299, 67299, 67299, 67299, 67299, 67299, 67299, 67299, 67299, 67299, 67299, 67299, 67299, 67299, 67299, 67299, 67299, 67299, 67299, 67299, 67299, 67299, 67299, 67299, 67299, 67299, 67299, 67299, 67299, 67299, 67299, 67299]\n",
      "Y: 1\n",
      "\n",
      "X: [42348, 41789, 733, 48591, 28766, 2160, 62714, 1823, 46683, 64597, 47876, 67298, 67300, 67299, 67299, 67299, 67299, 67299, 67299, 67299, 67299, 67299, 67299, 67299, 67299, 67299, 67299, 67299, 67299, 67299, 67299, 67299, 67299, 67299, 67299, 67299, 67299, 67299, 67299, 67299, 67299, 67299, 67299, 67299, 67299, 67299, 67299, 67299, 67299, 67299, 67299, 67299, 67299, 67299, 67299, 67299, 67299, 67299, 67299, 67299, 67299, 67299, 67299, 67299]\n",
      "Y: 10\n",
      "\n",
      "X: [40191, 66171, 48591, 1530, 46323, 62714, 1823, 55813, 67298, 67300, 67299, 67299, 67299, 67299, 67299, 67299, 67299, 67299, 67299, 67299, 67299, 67299, 67299, 67299, 67299, 67299, 67299, 67299, 67299, 67299, 67299, 67299, 67299, 67299, 67299, 67299, 67299, 67299, 67299, 67299, 67299, 67299, 67299, 67299, 67299, 67299, 67299, 67299, 67299, 67299, 67299, 67299, 67299, 67299, 67299, 67299, 67299, 67299, 67299, 67299, 67299, 67299, 67299, 67299]\n",
      "Y: 11\n"
     ]
    }
   ],
   "source": [
    "# Pad sequences\n",
    "max_len = max([len(words) for words in x])\n",
    "\n",
    "for i in range(len(x)):\n",
    "    x[i] += [word_to_idx[\"<eos>\"]] + [word_to_idx[\"<pad>\"]] * (max_len - len(x[i]))\n",
    "\n",
    "for i in range(5):\n",
    "    print()\n",
    "    print(\"X:\", x[i])\n",
    "    print(\"Y:\", y[i])"
   ]
  },
  {
   "cell_type": "code",
   "execution_count": 41,
   "metadata": {},
   "outputs": [],
   "source": [
    "# Convert to tensors\n",
    "x = torch.tensor(x).to(device)\n",
    "y = torch.tensor(y).to(device)"
   ]
  },
  {
   "cell_type": "code",
   "execution_count": 42,
   "metadata": {},
   "outputs": [
    {
     "name": "stdout",
     "output_type": "stream",
     "text": [
      "X: ['Texas', ',', 'Houston', '?', 'up', 'grow', 'Beyonce', 'did', 'state', 'and', 'city', '<qw>', '<eos>', '<pad>', '<pad>', '<pad>', '<pad>', '<pad>', '<pad>', '<pad>', '<pad>', '<pad>', '<pad>', '<pad>', '<pad>', '<pad>', '<pad>', '<pad>', '<pad>', '<pad>', '<pad>', '<pad>', '<pad>', '<pad>', '<pad>', '<pad>', '<pad>', '<pad>', '<pad>', '<pad>', '<pad>', '<pad>', '<pad>', '<pad>', '<pad>', '<pad>', '<pad>', '<pad>', '<pad>', '<pad>', '<pad>', '<pad>', '<pad>', '<pad>', '<pad>', '<pad>', '<pad>', '<pad>', '<pad>', '<pad>', '<pad>', '<pad>', '<pad>', '<pad>']\n",
      "Y: What\n"
     ]
    }
   ],
   "source": [
    "# Example of a training pair (x, y) words\n",
    "i = 3\n",
    "print(\"X:\", [idx_to_word[idx.item()] for idx in x[i]])\n",
    "print(\"Y:\", words_to_pred[y[i].argmax().item()])"
   ]
  },
  {
   "cell_type": "markdown",
   "metadata": {},
   "source": [
    "## Training\n",
    "\n",
    "We will now our model to predict the first or the two first words of the question given the rest of the question and the answer. We will use a transformer model to do so.\n"
   ]
  },
  {
   "cell_type": "code",
   "execution_count": 43,
   "metadata": {},
   "outputs": [
    {
     "name": "stdout",
     "output_type": "stream",
     "text": [
      "Train size: 60373\n",
      "Val size: 7547\n",
      "Test size: 7547\n"
     ]
    }
   ],
   "source": [
    "# Train val test split\n",
    "x_train, x_val, y_train, y_val = train_test_split(x, y, test_size=0.2)\n",
    "x_val, x_test, y_val, y_test = train_test_split(x_val, y_val, test_size=0.5)\n",
    "\n",
    "print(\"Train size:\", len(x_train))\n",
    "print(\"Val size:\", len(x_val))\n",
    "print(\"Test size:\", len(x_test))"
   ]
  },
  {
   "cell_type": "code",
   "execution_count": 44,
   "metadata": {},
   "outputs": [],
   "source": [
    "class QuestionDataset(Dataset):\n",
    "    def __init__(self, X, Y, word_to_idx):\n",
    "        self.X = X\n",
    "        self.Y = Y\n",
    "        self.word_to_idx = word_to_idx\n",
    "\n",
    "    def __len__(self):\n",
    "        return len(self.X)\n",
    "\n",
    "    def __getitem__(self, idx):\n",
    "        x = self.X[idx]\n",
    "        y = self.Y[idx]\n",
    "        return x, y\n",
    "\n",
    "dataset_train = QuestionDataset(x_train, y_train, word_to_idx)\n",
    "train_loader = DataLoader(dataset_train, batch_size=32, shuffle=True)\n",
    "\n",
    "dataset_val = QuestionDataset(x_val, y_val, word_to_idx)\n",
    "val_loader = DataLoader(dataset_val, batch_size=32, shuffle=False)\n",
    "\n",
    "dataset_test = QuestionDataset(x_test, y_test, word_to_idx)\n",
    "test_loader = DataLoader(dataset_test, batch_size=32, shuffle=False)"
   ]
  },
  {
   "cell_type": "markdown",
   "metadata": {},
   "source": [
    "### LSTM Model for multi-class classification\n",
    "The class there are defined in `words_to_pred` list."
   ]
  },
  {
   "cell_type": "code",
   "execution_count": 45,
   "metadata": {},
   "outputs": [
    {
     "data": {
      "application/vnd.jupyter.widget-view+json": {
       "model_id": "9f3f20c2df3848d0b4f08c7be9e365e3",
       "version_major": 2,
       "version_minor": 0
      },
      "text/plain": [
       "  0%|          | 0/10 [00:00<?, ?it/s]"
      ]
     },
     "metadata": {},
     "output_type": "display_data"
    },
    {
     "name": "stdout",
     "output_type": "stream",
     "text": [
      "Epoch 1/10, Train Loss: 1.7576, Val Loss: 1.7583\n",
      "Epoch 2/10, Train Loss: 1.7529, Val Loss: 1.7603\n",
      "Epoch 3/10, Train Loss: 1.7532, Val Loss: 1.7678\n",
      "Epoch 4/10, Train Loss: 1.7531, Val Loss: 1.7570\n",
      "Epoch 5/10, Train Loss: 1.7528, Val Loss: 1.7568\n",
      "Epoch 6/10, Train Loss: 1.7527, Val Loss: 1.7598\n",
      "Epoch 7/10, Train Loss: 1.6269, Val Loss: 1.3652\n",
      "Epoch 8/10, Train Loss: 1.0136, Val Loss: 0.8854\n",
      "Epoch 9/10, Train Loss: 0.7455, Val Loss: 0.8393\n",
      "Epoch 10/10, Train Loss: 0.5820, Val Loss: 0.8337\n"
     ]
    },
    {
     "data": {
      "image/png": "[encoded data removed]",
      "text/plain": [
       "<Figure size 640x480 with 1 Axes>"
      ]
     },
     "metadata": {},
     "output_type": "display_data"
    }
   ],
   "source": [
    "class LSTMClassifier(nn.Module):\n",
    "    def __init__(self, input_size, hidden_size, output_size, num_layers=1):\n",
    "        super(LSTMClassifier, self).__init__()\n",
    "        self.hidden_size = hidden_size\n",
    "        self.num_layers = num_layers\n",
    "        self.embedding = nn.Embedding(input_size, hidden_size)\n",
    "        self.lstm = nn.LSTM(hidden_size, hidden_size,\n",
    "                            num_layers, batch_first=True)\n",
    "        self.fc = nn.Linear(hidden_size, output_size)\n",
    "\n",
    "    def forward(self, x):\n",
    "        embedded = self.embedding(x)\n",
    "        output, _ = self.lstm(embedded)\n",
    "        output = output[:, -1, :]  # Take the last output\n",
    "        output = self.fc(output)\n",
    "        return output\n",
    "\n",
    "\n",
    "# Define the model\n",
    "input_size = len(vocab)  # Vocabulary size\n",
    "hidden_size = 128  # Hidden size of LSTM\n",
    "output_size = len(words_to_pred)  # Number of classes (words to predict)\n",
    "num_layers = 1  # Number of LSTM layers\n",
    "model = LSTMClassifier(input_size, hidden_size,\n",
    "                       output_size, num_layers).to(device)\n",
    "\n",
    "# Define loss function and optimizer\n",
    "criterion = nn.CrossEntropyLoss()\n",
    "optimizer = optim.Adam(model.parameters(), lr=0.001)\n",
    "\n",
    "# Training loop\n",
    "def train_model(model, train_loader, val_loader, criterion, optimizer, num_epochs=10):\n",
    "    train_losses = []\n",
    "    val_losses = []\n",
    "    for epoch in trange(num_epochs):\n",
    "        model.train()\n",
    "        running_loss = 0.0\n",
    "        for inputs, targets in train_loader:\n",
    "            optimizer.zero_grad()\n",
    "            outputs = model(inputs)\n",
    "            loss = criterion(outputs, targets)\n",
    "            loss.backward()\n",
    "            optimizer.step()\n",
    "            running_loss += loss.item() * inputs.size(0)\n",
    "        train_loss = running_loss / len(train_loader.dataset)\n",
    "        train_losses.append(train_loss)\n",
    "\n",
    "        model.eval()\n",
    "        val_loss = 0.0\n",
    "        with torch.no_grad():\n",
    "            for inputs, targets in val_loader:\n",
    "                outputs = model(inputs)\n",
    "                loss = criterion(outputs, targets)\n",
    "                val_loss += loss.item() * inputs.size(0)\n",
    "        val_loss /= len(val_loader.dataset)\n",
    "        val_losses.append(val_loss)\n",
    "\n",
    "        print(f\"Epoch {epoch+1}/{num_epochs}, Train Loss: {train_loss:.4f}, Val Loss: {val_loss:.4f}\")\n",
    "\n",
    "    return train_losses, val_losses\n",
    "\n",
    "\n",
    "# Train the model\n",
    "train_losses, val_losses = train_model(\n",
    "    model, train_loader, val_loader, criterion, optimizer, num_epochs=10)\n",
    "\n",
    "# Plot the training and validation losses\n",
    "plt.plot(train_losses, label='Train Loss')\n",
    "plt.plot(val_losses, label='Val Loss')\n",
    "plt.xlabel('Epoch')\n",
    "plt.ylabel('Loss')\n",
    "plt.legend()\n",
    "plt.show()"
   ]
  },
  {
   "cell_type": "markdown",
   "metadata": {},
   "source": [
    "Les résultats ils sont chelous la loss elle diminue d'un coup, je pense en faisant x10 sur le nombre d'épochs à train on peut avoir de bons résultats."
   ]
  },
  {
   "cell_type": "code",
   "execution_count": 46,
   "metadata": {},
   "outputs": [
    {
     "name": "stdout",
     "output_type": "stream",
     "text": [
      "Test Loss: 0.8343\n",
      "X: ['northern', '?', 'located', 'Zeila', 'is', 'Somalia', 'of', 'part', 'geographic', '<qw>', '<eos>', '<pad>', '<pad>', '<pad>', '<pad>', '<pad>', '<pad>', '<pad>', '<pad>', '<pad>', '<pad>', '<pad>', '<pad>', '<pad>', '<pad>', '<pad>', '<pad>', '<pad>', '<pad>', '<pad>', '<pad>', '<pad>', '<pad>', '<pad>', '<pad>', '<pad>', '<pad>', '<pad>', '<pad>', '<pad>', '<pad>', '<pad>', '<pad>', '<pad>', '<pad>', '<pad>', '<pad>', '<pad>', '<pad>', '<pad>', '<pad>', '<pad>', '<pad>', '<pad>', '<pad>', '<pad>', '<pad>', '<pad>', '<pad>', '<pad>', '<pad>', '<pad>', '<pad>', '<pad>']\n",
      "Y: In what\n",
      "Pred: In what\n"
     ]
    }
   ],
   "source": [
    "# Test the model\n",
    "model.eval()\n",
    "test_loss = 0.0\n",
    "with torch.no_grad():\n",
    "    for inputs, targets in test_loader:\n",
    "        outputs = model(inputs)\n",
    "        loss = criterion(outputs, targets)\n",
    "        test_loss += loss.item() * inputs.size(0)\n",
    "    test_loss /= len(test_loader.dataset)\n",
    "\n",
    "print(f\"Test Loss: {test_loss:.4f}\")\n",
    "\n",
    "# Predict function\n",
    "\n",
    "\n",
    "def predict(model, x, idx_to_word, words_to_pred):\n",
    "    model.eval()\n",
    "    with torch.no_grad():\n",
    "        output = model(x)\n",
    "        pred = output.argmax(dim=1)\n",
    "        pred_word = words_to_pred[pred.item()]\n",
    "        x_words = [idx_to_word[idx.item()] for idx in x.squeeze()]\n",
    "        return x_words, pred_word\n",
    "\n",
    "\n",
    "# Example of a test prediction\n",
    "i = 29\n",
    "x, y = dataset_test[i]\n",
    "\n",
    "x_words, pred_word = predict(model, x.unsqueeze(\n",
    "    0).to(device), idx_to_word, words_to_pred)\n",
    "print(\"X:\", x_words)\n",
    "print(\"Y:\", words_to_pred[y.item()])\n",
    "print(\"Pred:\", pred_word)"
   ]
  },
  {
   "cell_type": "code",
   "execution_count": 47,
   "metadata": {},
   "outputs": [
    {
     "name": "stdout",
     "output_type": "stream",
     "text": [
      "Test Accuracy: 0.7306\n"
     ]
    }
   ],
   "source": [
    "# Predict all test examples and calculate accuracy\n",
    "correct = 0\n",
    "total = 0\n",
    "for x, y in test_loader:\n",
    "    output = model(x.to(device))\n",
    "    pred = output.argmax(dim=1)\n",
    "    correct += (pred == y).sum().item()\n",
    "    total += y.size(0)\n",
    "\n",
    "accuracy = correct / total\n",
    "print(f\"Test Accuracy: {accuracy:.4f}\")"
   ]
  },
  {
   "cell_type": "code",
   "execution_count": 48,
   "metadata": {},
   "outputs": [
    {
     "data": {
      "image/png": "[encoded data removed]",
      "text/plain": [
       "<Figure size 1000x600 with 1 Axes>"
      ]
     },
     "metadata": {},
     "output_type": "display_data"
    },
    {
     "data": {
      "image/png": "[encoded data removed]",
      "text/plain": [
       "<Figure size 1000x600 with 1 Axes>"
      ]
     },
     "metadata": {},
     "output_type": "display_data"
    }
   ],
   "source": [
    "# See the distribution of predicted words compare to the distribution of aimed words\n",
    "preds = []\n",
    "targets = []\n",
    "model.eval()\n",
    "\n",
    "with torch.no_grad():\n",
    "    for x, y in test_loader:\n",
    "        output = model(x.to(device))\n",
    "        pred = output.argmax(dim=1)\n",
    "        preds.extend(pred.cpu().numpy())\n",
    "        targets.extend(y.cpu().numpy())\n",
    "\n",
    "preds = [words_to_pred[pred] for pred in preds]\n",
    "targets = [words_to_pred[target] for target in targets]\n",
    "\n",
    "df = pd.DataFrame({\"Target\": targets, \"Pred\": preds})\n",
    "\n",
    "plt.figure(figsize=(10, 6))\n",
    "sns.countplot(data=df, x=\"Pred\", order=words_to_pred)\n",
    "plt.title(\"Predicted Words Distribution\")\n",
    "plt.show()\n",
    "\n",
    "plt.figure(figsize=(10, 6))\n",
    "sns.countplot(data=df, x=\"Target\", order=words_to_pred)\n",
    "plt.title(\"Target Words Distribution\")\n",
    "plt.show()"
   ]
  }
 ],
 "metadata": {
  "kernelspec": {
   "display_name": "Python 3 (ipykernel)",
   "language": "python",
   "name": "python3"
  },
  "language_info": {
   "codemirror_mode": {
    "name": "ipython",
    "version": 3
   },
   "file_extension": ".py",
   "mimetype": "text/x-python",
   "name": "python",
   "nbconvert_exporter": "python",
   "pygments_lexer": "ipython3",
   "version": "3.10.13"
  }
 },
 "nbformat": 4,
 "nbformat_minor": 2
}
